{
 "cells": [
  {
   "cell_type": "code",
   "execution_count": 1,
   "metadata": {
    "scrolled": true
   },
   "outputs": [],
   "source": [
    "%load_ext autoreload\n",
    "%autoreload 2\n",
    "\n",
    "import sys\n",
    "sys.path.append('../..')"
   ]
  },
  {
   "cell_type": "markdown",
   "metadata": {},
   "source": [
    "# Imports"
   ]
  },
  {
   "cell_type": "code",
   "execution_count": 4,
   "metadata": {},
   "outputs": [
    {
     "name": "stdout",
     "output_type": "stream",
     "text": [
      "WARNING:tensorflow:From c:\\Users\\3742\\anaconda3\\envs\\ai4pfas\\Lib\\site-packages\\tf_keras\\src\\losses.py:2976: The name tf.losses.sparse_softmax_cross_entropy is deprecated. Please use tf.compat.v1.losses.sparse_softmax_cross_entropy instead.\n",
      "\n",
      "WARNING:tensorflow:From c:\\Users\\3742\\anaconda3\\envs\\ai4pfas\\Lib\\site-packages\\tensorflow_probability\\python\\internal\\backend\\numpy\\_utils.py:48: The name tf.logging.TaskLevelStatusMessage is deprecated. Please use tf.compat.v1.logging.TaskLevelStatusMessage instead.\n",
      "\n",
      "WARNING:tensorflow:From c:\\Users\\3742\\anaconda3\\envs\\ai4pfas\\Lib\\site-packages\\tensorflow_probability\\python\\internal\\backend\\numpy\\_utils.py:48: The name tf.control_flow_v2_enabled is deprecated. Please use tf.compat.v1.control_flow_v2_enabled instead.\n",
      "\n"
     ]
    }
   ],
   "source": [
    "import pandas as pd\n",
    "import numpy as np\n",
    "import tensorflow as tf\n",
    "import tensorflow as tf\n",
    "from tensorflow import keras\n",
    "from tensorflow.keras import layers\n",
    "from tensorflow.keras import backend as K\n",
    "from tensorflow.keras.models import Sequential\n",
    "from tensorflow.keras.layers import Dense\n",
    "from tensorflow.keras.callbacks import Callback \n",
    "from torch_geometric.data import DataLoader\n",
    "from rdkit import Chem\n",
    "\n",
    "\n",
    "from src import models\n",
    "from src import experimental_setup\n",
    "experimental_setup.path_prefix = '/../'"
   ]
  },
  {
   "cell_type": "markdown",
   "metadata": {},
   "source": [
    "# Experimental setup"
   ]
  },
  {
   "cell_type": "code",
   "execution_count": 5,
   "metadata": {},
   "outputs": [],
   "source": [
    "_benchmarks = {\n",
    "    'dnn_mordred': {'model': models.DNN_Mordred, 'encoding': 'mordred'},\n",
    "    'dnn_ecfp': {'model': models.DNN_ECFP, 'encoding': 'ecfp_2048'},\n",
    "    'rf_mordred': {'model': models.RF, 'encoding': 'mordred'},\n",
    "    'rf_ecfp': {'model': models.RF, 'encoding': 'ecfp_4096'},\n",
    "    'rf_nmf_ecfp': {'model': models.RF_NMF_ECFP, 'encoding': 'ecfp_4096'},\n",
    "    'gp': {'model': models.GP, 'encoding': 'gp'},\n",
    "    'gcn': {'model': models.GCN, 'encoding': 'smiles'}\n",
    "}\n",
    "\n",
    "# benchmarks to train/validate, check _benchmark_dict for options\n",
    "run_benchmarks = ['dnn_mordred','dnn_ecfp']\n",
    "\n",
    "# `random` or `stratified`\n",
    "sampling_type = 'random'\n",
    "\n",
    "kfold = experimental_setup.CrossValidator(\n",
    "    splits = 5, # dont change without re-running data preprocessing\n",
    "    sampling_type = sampling_type,\n",
    ")\n",
    "\n",
    "converter = experimental_setup.LD50UnitConverter()"
   ]
  },
  {
   "cell_type": "markdown",
   "metadata": {},
   "source": [
    "# Train/predict using benchmark models"
   ]
  },
  {
   "cell_type": "code",
   "execution_count": 6,
   "metadata": {
    "scrolled": true
   },
   "outputs": [
    {
     "name": "stdout",
     "output_type": "stream",
     "text": [
      "Epoch 1/10\n"
     ]
    },
    {
     "name": "stderr",
     "output_type": "stream",
     "text": [
      "c:\\Users\\3742\\anaconda3\\envs\\ai4pfas\\Lib\\site-packages\\keras\\src\\layers\\layer.py:391: UserWarning: `build()` was called on layer 'dnn__mordred', however the layer does not have a `build()` method implemented and it looks like it has unbuilt state. This will cause the layer to be marked as built, despite not being actually built, which may cause failures down the line. Make sure to implement a proper `build()` method.\n",
      "  warnings.warn(\n"
     ]
    },
    {
     "name": "stdout",
     "output_type": "stream",
     "text": [
      "\u001b[1m42/42\u001b[0m \u001b[32m━━━━━━━━━━━━━━━━━━━━\u001b[0m\u001b[37m\u001b[0m \u001b[1m4s\u001b[0m 13ms/step - loss: 502216.8750 - mae: 189.2576 - mse: 502216.8750\n",
      "Epoch 2/10\n",
      "\u001b[1m42/42\u001b[0m \u001b[32m━━━━━━━━━━━━━━━━━━━━\u001b[0m\u001b[37m\u001b[0m \u001b[1m1s\u001b[0m 13ms/step - loss: 1.2527 - mae: 0.8483 - mse: 1.2527\n",
      "Epoch 3/10\n",
      "\u001b[1m42/42\u001b[0m \u001b[32m━━━━━━━━━━━━━━━━━━━━\u001b[0m\u001b[37m\u001b[0m \u001b[1m1s\u001b[0m 14ms/step - loss: 0.9602 - mae: 0.7380 - mse: 0.9602\n",
      "Epoch 4/10\n",
      "\u001b[1m42/42\u001b[0m \u001b[32m━━━━━━━━━━━━━━━━━━━━\u001b[0m\u001b[37m\u001b[0m \u001b[1m0s\u001b[0m 9ms/step - loss: 0.9180 - mae: 0.7251 - mse: 0.9180\n",
      "Epoch 5/10\n",
      "\u001b[1m42/42\u001b[0m \u001b[32m━━━━━━━━━━━━━━━━━━━━\u001b[0m\u001b[37m\u001b[0m \u001b[1m1s\u001b[0m 12ms/step - loss: 0.9001 - mae: 0.7201 - mse: 0.9001\n",
      "Epoch 6/10\n",
      "\u001b[1m42/42\u001b[0m \u001b[32m━━━━━━━━━━━━━━━━━━━━\u001b[0m\u001b[37m\u001b[0m \u001b[1m0s\u001b[0m 10ms/step - loss: 0.8965 - mae: 0.7199 - mse: 0.8965\n",
      "Epoch 7/10\n",
      "\u001b[1m42/42\u001b[0m \u001b[32m━━━━━━━━━━━━━━━━━━━━\u001b[0m\u001b[37m\u001b[0m \u001b[1m1s\u001b[0m 14ms/step - loss: 0.8860 - mae: 0.7123 - mse: 0.8860\n",
      "Epoch 8/10\n",
      "\u001b[1m42/42\u001b[0m \u001b[32m━━━━━━━━━━━━━━━━━━━━\u001b[0m\u001b[37m\u001b[0m \u001b[1m1s\u001b[0m 14ms/step - loss: 0.8717 - mae: 0.7102 - mse: 0.8717\n",
      "Epoch 9/10\n",
      "\u001b[1m42/42\u001b[0m \u001b[32m━━━━━━━━━━━━━━━━━━━━\u001b[0m\u001b[37m\u001b[0m \u001b[1m1s\u001b[0m 12ms/step - loss: 0.8655 - mae: 0.7074 - mse: 0.8655\n",
      "Epoch 10/10\n",
      "\u001b[1m42/42\u001b[0m \u001b[32m━━━━━━━━━━━━━━━━━━━━\u001b[0m\u001b[37m\u001b[0m \u001b[1m1s\u001b[0m 11ms/step - loss: 0.8610 - mae: 0.7072 - mse: 0.8610\n",
      "\u001b[1m84/84\u001b[0m \u001b[32m━━━━━━━━━━━━━━━━━━━━\u001b[0m\u001b[37m\u001b[0m \u001b[1m0s\u001b[0m 3ms/step\n",
      "Epoch 1/10\n"
     ]
    },
    {
     "name": "stderr",
     "output_type": "stream",
     "text": [
      "c:\\Users\\3742\\anaconda3\\envs\\ai4pfas\\Lib\\site-packages\\keras\\src\\layers\\layer.py:391: UserWarning: `build()` was called on layer 'dnn__mordred_1', however the layer does not have a `build()` method implemented and it looks like it has unbuilt state. This will cause the layer to be marked as built, despite not being actually built, which may cause failures down the line. Make sure to implement a proper `build()` method.\n",
      "  warnings.warn(\n"
     ]
    },
    {
     "name": "stdout",
     "output_type": "stream",
     "text": [
      "\u001b[1m42/42\u001b[0m \u001b[32m━━━━━━━━━━━━━━━━━━━━\u001b[0m\u001b[37m\u001b[0m \u001b[1m4s\u001b[0m 12ms/step - loss: 519617.5000 - mae: 190.1945 - mse: 519617.5000\n",
      "Epoch 2/10\n",
      "\u001b[1m42/42\u001b[0m \u001b[32m━━━━━━━━━━━━━━━━━━━━\u001b[0m\u001b[37m\u001b[0m \u001b[1m1s\u001b[0m 14ms/step - loss: 0.9727 - mae: 0.7510 - mse: 0.9727\n",
      "Epoch 3/10\n",
      "\u001b[1m42/42\u001b[0m \u001b[32m━━━━━━━━━━━━━━━━━━━━\u001b[0m\u001b[37m\u001b[0m \u001b[1m1s\u001b[0m 14ms/step - loss: 0.8987 - mae: 0.7200 - mse: 0.8987\n",
      "Epoch 4/10\n",
      "\u001b[1m42/42\u001b[0m \u001b[32m━━━━━━━━━━━━━━━━━━━━\u001b[0m\u001b[37m\u001b[0m \u001b[1m1s\u001b[0m 12ms/step - loss: 0.8858 - mae: 0.7125 - mse: 0.8858\n",
      "Epoch 5/10\n",
      "\u001b[1m42/42\u001b[0m \u001b[32m━━━━━━━━━━━━━━━━━━━━\u001b[0m\u001b[37m\u001b[0m \u001b[1m0s\u001b[0m 11ms/step - loss: 0.8844 - mae: 0.7136 - mse: 0.8844\n",
      "Epoch 6/10\n",
      "\u001b[1m42/42\u001b[0m \u001b[32m━━━━━━━━━━━━━━━━━━━━\u001b[0m\u001b[37m\u001b[0m \u001b[1m1s\u001b[0m 11ms/step - loss: 0.8754 - mae: 0.7083 - mse: 0.8754\n",
      "Epoch 7/10\n",
      "\u001b[1m42/42\u001b[0m \u001b[32m━━━━━━━━━━━━━━━━━━━━\u001b[0m\u001b[37m\u001b[0m \u001b[1m1s\u001b[0m 15ms/step - loss: 0.8662 - mae: 0.7056 - mse: 0.8662\n",
      "Epoch 8/10\n",
      "\u001b[1m42/42\u001b[0m \u001b[32m━━━━━━━━━━━━━━━━━━━━\u001b[0m\u001b[37m\u001b[0m \u001b[1m1s\u001b[0m 11ms/step - loss: 0.8650 - mae: 0.7067 - mse: 0.8650\n",
      "Epoch 9/10\n",
      "\u001b[1m42/42\u001b[0m \u001b[32m━━━━━━━━━━━━━━━━━━━━\u001b[0m\u001b[37m\u001b[0m \u001b[1m1s\u001b[0m 11ms/step - loss: 0.8615 - mae: 0.7051 - mse: 0.8615\n",
      "Epoch 10/10\n",
      "\u001b[1m42/42\u001b[0m \u001b[32m━━━━━━━━━━━━━━━━━━━━\u001b[0m\u001b[37m\u001b[0m \u001b[1m0s\u001b[0m 6ms/step - loss: 0.8578 - mae: 0.7039 - mse: 0.8578\n",
      "\u001b[1m84/84\u001b[0m \u001b[32m━━━━━━━━━━━━━━━━━━━━\u001b[0m\u001b[37m\u001b[0m \u001b[1m0s\u001b[0m 3ms/step\n",
      "Epoch 1/10\n"
     ]
    },
    {
     "name": "stderr",
     "output_type": "stream",
     "text": [
      "c:\\Users\\3742\\anaconda3\\envs\\ai4pfas\\Lib\\site-packages\\keras\\src\\layers\\layer.py:391: UserWarning: `build()` was called on layer 'dnn__mordred_2', however the layer does not have a `build()` method implemented and it looks like it has unbuilt state. This will cause the layer to be marked as built, despite not being actually built, which may cause failures down the line. Make sure to implement a proper `build()` method.\n",
      "  warnings.warn(\n"
     ]
    },
    {
     "name": "stdout",
     "output_type": "stream",
     "text": [
      "\u001b[1m42/42\u001b[0m \u001b[32m━━━━━━━━━━━━━━━━━━━━\u001b[0m\u001b[37m\u001b[0m \u001b[1m4s\u001b[0m 8ms/step - loss: 1055552.7500 - mae: 228.2735 - mse: 1055552.7500\n",
      "Epoch 2/10\n",
      "\u001b[1m42/42\u001b[0m \u001b[32m━━━━━━━━━━━━━━━━━━━━\u001b[0m\u001b[37m\u001b[0m \u001b[1m0s\u001b[0m 6ms/step - loss: 7.3752 - mae: 1.8214 - mse: 7.3752\n",
      "Epoch 3/10\n",
      "\u001b[1m42/42\u001b[0m \u001b[32m━━━━━━━━━━━━━━━━━━━━\u001b[0m\u001b[37m\u001b[0m \u001b[1m0s\u001b[0m 6ms/step - loss: 1.4451 - mae: 0.8976 - mse: 1.4451\n",
      "Epoch 4/10\n",
      "\u001b[1m42/42\u001b[0m \u001b[32m━━━━━━━━━━━━━━━━━━━━\u001b[0m\u001b[37m\u001b[0m \u001b[1m0s\u001b[0m 6ms/step - loss: 1.5274 - mae: 0.9151 - mse: 1.5274\n",
      "Epoch 5/10\n",
      "\u001b[1m42/42\u001b[0m \u001b[32m━━━━━━━━━━━━━━━━━━━━\u001b[0m\u001b[37m\u001b[0m \u001b[1m0s\u001b[0m 6ms/step - loss: 1.4634 - mae: 0.9025 - mse: 1.4634\n",
      "Epoch 6/10\n",
      "\u001b[1m42/42\u001b[0m \u001b[32m━━━━━━━━━━━━━━━━━━━━\u001b[0m\u001b[37m\u001b[0m \u001b[1m0s\u001b[0m 6ms/step - loss: 1.3607 - mae: 0.8753 - mse: 1.3607\n",
      "Epoch 7/10\n",
      "\u001b[1m42/42\u001b[0m \u001b[32m━━━━━━━━━━━━━━━━━━━━\u001b[0m\u001b[37m\u001b[0m \u001b[1m0s\u001b[0m 6ms/step - loss: 1.3870 - mae: 0.8846 - mse: 1.3870\n",
      "Epoch 8/10\n",
      "\u001b[1m42/42\u001b[0m \u001b[32m━━━━━━━━━━━━━━━━━━━━\u001b[0m\u001b[37m\u001b[0m \u001b[1m0s\u001b[0m 6ms/step - loss: 1.1743 - mae: 0.8254 - mse: 1.1743\n",
      "Epoch 9/10\n",
      "\u001b[1m42/42\u001b[0m \u001b[32m━━━━━━━━━━━━━━━━━━━━\u001b[0m\u001b[37m\u001b[0m \u001b[1m0s\u001b[0m 7ms/step - loss: 1.1088 - mae: 0.8034 - mse: 1.1088\n",
      "Epoch 10/10\n",
      "\u001b[1m42/42\u001b[0m \u001b[32m━━━━━━━━━━━━━━━━━━━━\u001b[0m\u001b[37m\u001b[0m \u001b[1m0s\u001b[0m 6ms/step - loss: 1.1338 - mae: 0.8086 - mse: 1.1338\n",
      "\u001b[1m84/84\u001b[0m \u001b[32m━━━━━━━━━━━━━━━━━━━━\u001b[0m\u001b[37m\u001b[0m \u001b[1m0s\u001b[0m 4ms/step\n",
      "Epoch 1/10\n"
     ]
    },
    {
     "name": "stderr",
     "output_type": "stream",
     "text": [
      "c:\\Users\\3742\\anaconda3\\envs\\ai4pfas\\Lib\\site-packages\\keras\\src\\layers\\layer.py:391: UserWarning: `build()` was called on layer 'dnn__mordred_3', however the layer does not have a `build()` method implemented and it looks like it has unbuilt state. This will cause the layer to be marked as built, despite not being actually built, which may cause failures down the line. Make sure to implement a proper `build()` method.\n",
      "  warnings.warn(\n"
     ]
    },
    {
     "name": "stdout",
     "output_type": "stream",
     "text": [
      "\u001b[1m42/42\u001b[0m \u001b[32m━━━━━━━━━━━━━━━━━━━━\u001b[0m\u001b[37m\u001b[0m \u001b[1m4s\u001b[0m 14ms/step - loss: 770770.2500 - mae: 211.2753 - mse: 770770.2500\n",
      "Epoch 2/10\n",
      "\u001b[1m42/42\u001b[0m \u001b[32m━━━━━━━━━━━━━━━━━━━━\u001b[0m\u001b[37m\u001b[0m \u001b[1m1s\u001b[0m 12ms/step - loss: 2.2651 - mae: 1.0567 - mse: 2.2651\n",
      "Epoch 3/10\n",
      "\u001b[1m42/42\u001b[0m \u001b[32m━━━━━━━━━━━━━━━━━━━━\u001b[0m\u001b[37m\u001b[0m \u001b[1m0s\u001b[0m 11ms/step - loss: 1.0780 - mae: 0.7873 - mse: 1.0780\n",
      "Epoch 4/10\n",
      "\u001b[1m42/42\u001b[0m \u001b[32m━━━━━━━━━━━━━━━━━━━━\u001b[0m\u001b[37m\u001b[0m \u001b[1m0s\u001b[0m 10ms/step - loss: 1.0479 - mae: 0.7764 - mse: 1.0479\n",
      "Epoch 5/10\n",
      "\u001b[1m42/42\u001b[0m \u001b[32m━━━━━━━━━━━━━━━━━━━━\u001b[0m\u001b[37m\u001b[0m \u001b[1m0s\u001b[0m 9ms/step - loss: 1.0129 - mae: 0.7650 - mse: 1.0129\n",
      "Epoch 6/10\n",
      "\u001b[1m42/42\u001b[0m \u001b[32m━━━━━━━━━━━━━━━━━━━━\u001b[0m\u001b[37m\u001b[0m \u001b[1m0s\u001b[0m 9ms/step - loss: 0.9894 - mae: 0.7408 - mse: 0.9894\n",
      "Epoch 7/10\n",
      "\u001b[1m42/42\u001b[0m \u001b[32m━━━━━━━━━━━━━━━━━━━━\u001b[0m\u001b[37m\u001b[0m \u001b[1m0s\u001b[0m 7ms/step - loss: 0.9479 - mae: 0.7212 - mse: 0.9479\n",
      "Epoch 8/10\n",
      "\u001b[1m42/42\u001b[0m \u001b[32m━━━━━━━━━━━━━━━━━━━━\u001b[0m\u001b[37m\u001b[0m \u001b[1m0s\u001b[0m 6ms/step - loss: 0.8853 - mae: 0.7012 - mse: 0.8853\n",
      "Epoch 9/10\n",
      "\u001b[1m42/42\u001b[0m \u001b[32m━━━━━━━━━━━━━━━━━━━━\u001b[0m\u001b[37m\u001b[0m \u001b[1m0s\u001b[0m 7ms/step - loss: 0.8989 - mae: 0.7053 - mse: 0.8989\n",
      "Epoch 10/10\n",
      "\u001b[1m42/42\u001b[0m \u001b[32m━━━━━━━━━━━━━━━━━━━━\u001b[0m\u001b[37m\u001b[0m \u001b[1m0s\u001b[0m 6ms/step - loss: 0.8926 - mae: 0.7033 - mse: 0.8926\n",
      "\u001b[1m84/84\u001b[0m \u001b[32m━━━━━━━━━━━━━━━━━━━━\u001b[0m\u001b[37m\u001b[0m \u001b[1m1s\u001b[0m 5ms/step\n",
      "Epoch 1/10\n"
     ]
    },
    {
     "name": "stderr",
     "output_type": "stream",
     "text": [
      "c:\\Users\\3742\\anaconda3\\envs\\ai4pfas\\Lib\\site-packages\\keras\\src\\layers\\layer.py:391: UserWarning: `build()` was called on layer 'dnn__mordred_4', however the layer does not have a `build()` method implemented and it looks like it has unbuilt state. This will cause the layer to be marked as built, despite not being actually built, which may cause failures down the line. Make sure to implement a proper `build()` method.\n",
      "  warnings.warn(\n"
     ]
    },
    {
     "name": "stdout",
     "output_type": "stream",
     "text": [
      "\u001b[1m42/42\u001b[0m \u001b[32m━━━━━━━━━━━━━━━━━━━━\u001b[0m\u001b[37m\u001b[0m \u001b[1m6s\u001b[0m 8ms/step - loss: 836974.3750 - mae: 238.4858 - mse: 836974.3750\n",
      "Epoch 2/10\n",
      "\u001b[1m42/42\u001b[0m \u001b[32m━━━━━━━━━━━━━━━━━━━━\u001b[0m\u001b[37m\u001b[0m \u001b[1m0s\u001b[0m 9ms/step - loss: 3.0587 - mae: 1.2029 - mse: 3.0587\n",
      "Epoch 3/10\n",
      "\u001b[1m42/42\u001b[0m \u001b[32m━━━━━━━━━━━━━━━━━━━━\u001b[0m\u001b[37m\u001b[0m \u001b[1m0s\u001b[0m 10ms/step - loss: 1.2414 - mae: 0.8605 - mse: 1.2414\n",
      "Epoch 4/10\n",
      "\u001b[1m42/42\u001b[0m \u001b[32m━━━━━━━━━━━━━━━━━━━━\u001b[0m\u001b[37m\u001b[0m \u001b[1m0s\u001b[0m 9ms/step - loss: 1.0581 - mae: 0.8033 - mse: 1.0581\n",
      "Epoch 5/10\n",
      "\u001b[1m42/42\u001b[0m \u001b[32m━━━━━━━━━━━━━━━━━━━━\u001b[0m\u001b[37m\u001b[0m \u001b[1m0s\u001b[0m 9ms/step - loss: 1.0037 - mae: 0.7777 - mse: 1.0037 \n",
      "Epoch 6/10\n",
      "\u001b[1m42/42\u001b[0m \u001b[32m━━━━━━━━━━━━━━━━━━━━\u001b[0m\u001b[37m\u001b[0m \u001b[1m1s\u001b[0m 13ms/step - loss: 0.9782 - mae: 0.7652 - mse: 0.9782\n",
      "Epoch 7/10\n",
      "\u001b[1m42/42\u001b[0m \u001b[32m━━━━━━━━━━━━━━━━━━━━\u001b[0m\u001b[37m\u001b[0m \u001b[1m1s\u001b[0m 11ms/step - loss: 0.9686 - mae: 0.7584 - mse: 0.9686\n",
      "Epoch 8/10\n",
      "\u001b[1m42/42\u001b[0m \u001b[32m━━━━━━━━━━━━━━━━━━━━\u001b[0m\u001b[37m\u001b[0m \u001b[1m0s\u001b[0m 9ms/step - loss: 0.9612 - mae: 0.7532 - mse: 0.9612\n",
      "Epoch 9/10\n",
      "\u001b[1m42/42\u001b[0m \u001b[32m━━━━━━━━━━━━━━━━━━━━\u001b[0m\u001b[37m\u001b[0m \u001b[1m0s\u001b[0m 7ms/step - loss: 0.9599 - mae: 0.7504 - mse: 0.9599\n",
      "Epoch 10/10\n",
      "\u001b[1m42/42\u001b[0m \u001b[32m━━━━━━━━━━━━━━━━━━━━\u001b[0m\u001b[37m\u001b[0m \u001b[1m0s\u001b[0m 8ms/step - loss: 0.9816 - mae: 0.7546 - mse: 0.9816\n",
      "\u001b[1m84/84\u001b[0m \u001b[32m━━━━━━━━━━━━━━━━━━━━\u001b[0m\u001b[37m\u001b[0m \u001b[1m1s\u001b[0m 4ms/step\n",
      "Epoch 1/10\n"
     ]
    },
    {
     "name": "stderr",
     "output_type": "stream",
     "text": [
      "c:\\Users\\3742\\anaconda3\\envs\\ai4pfas\\Lib\\site-packages\\keras\\src\\layers\\layer.py:391: UserWarning: `build()` was called on layer 'dnn_ecfp', however the layer does not have a `build()` method implemented and it looks like it has unbuilt state. This will cause the layer to be marked as built, despite not being actually built, which may cause failures down the line. Make sure to implement a proper `build()` method.\n",
      "  warnings.warn(\n"
     ]
    },
    {
     "name": "stdout",
     "output_type": "stream",
     "text": [
      "\u001b[1m21/21\u001b[0m \u001b[32m━━━━━━━━━━━━━━━━━━━━\u001b[0m\u001b[37m\u001b[0m \u001b[1m6s\u001b[0m 113ms/step - loss: 0.7709 - mae: 0.6604 - mse: 0.7709\n",
      "Epoch 2/10\n",
      "\u001b[1m21/21\u001b[0m \u001b[32m━━━━━━━━━━━━━━━━━━━━\u001b[0m\u001b[37m\u001b[0m \u001b[1m3s\u001b[0m 132ms/step - loss: 0.3842 - mae: 0.4574 - mse: 0.3842\n",
      "Epoch 3/10\n",
      "\u001b[1m21/21\u001b[0m \u001b[32m━━━━━━━━━━━━━━━━━━━━\u001b[0m\u001b[37m\u001b[0m \u001b[1m4s\u001b[0m 90ms/step - loss: 0.2852 - mae: 0.3891 - mse: 0.2852\n",
      "Epoch 4/10\n",
      "\u001b[1m21/21\u001b[0m \u001b[32m━━━━━━━━━━━━━━━━━━━━\u001b[0m\u001b[37m\u001b[0m \u001b[1m2s\u001b[0m 87ms/step - loss: 0.2090 - mae: 0.3263 - mse: 0.2090\n",
      "Epoch 5/10\n",
      "\u001b[1m21/21\u001b[0m \u001b[32m━━━━━━━━━━━━━━━━━━━━\u001b[0m\u001b[37m\u001b[0m \u001b[1m2s\u001b[0m 81ms/step - loss: 0.1508 - mae: 0.2707 - mse: 0.1508\n",
      "Epoch 6/10\n",
      "\u001b[1m21/21\u001b[0m \u001b[32m━━━━━━━━━━━━━━━━━━━━\u001b[0m\u001b[37m\u001b[0m \u001b[1m2s\u001b[0m 81ms/step - loss: 0.1094 - mae: 0.2245 - mse: 0.1094\n",
      "Epoch 7/10\n",
      "\u001b[1m21/21\u001b[0m \u001b[32m━━━━━━━━━━━━━━━━━━━━\u001b[0m\u001b[37m\u001b[0m \u001b[1m2s\u001b[0m 84ms/step - loss: 0.0829 - mae: 0.1915 - mse: 0.0829\n",
      "Epoch 8/10\n",
      "\u001b[1m21/21\u001b[0m \u001b[32m━━━━━━━━━━━━━━━━━━━━\u001b[0m\u001b[37m\u001b[0m \u001b[1m2s\u001b[0m 86ms/step - loss: 0.0676 - mae: 0.1699 - mse: 0.0676\n",
      "Epoch 9/10\n",
      "\u001b[1m21/21\u001b[0m \u001b[32m━━━━━━━━━━━━━━━━━━━━\u001b[0m\u001b[37m\u001b[0m \u001b[1m2s\u001b[0m 85ms/step - loss: 0.0673 - mae: 0.1746 - mse: 0.0673\n",
      "Epoch 10/10\n",
      "\u001b[1m21/21\u001b[0m \u001b[32m━━━━━━━━━━━━━━━━━━━━\u001b[0m\u001b[37m\u001b[0m \u001b[1m2s\u001b[0m 80ms/step - loss: 0.1371 - mae: 0.2907 - mse: 0.1371\n",
      "\u001b[1m84/84\u001b[0m \u001b[32m━━━━━━━━━━━━━━━━━━━━\u001b[0m\u001b[37m\u001b[0m \u001b[1m1s\u001b[0m 5ms/step\n",
      "Epoch 1/10\n"
     ]
    },
    {
     "name": "stderr",
     "output_type": "stream",
     "text": [
      "c:\\Users\\3742\\anaconda3\\envs\\ai4pfas\\Lib\\site-packages\\keras\\src\\layers\\layer.py:391: UserWarning: `build()` was called on layer 'dnn_ecfp_1', however the layer does not have a `build()` method implemented and it looks like it has unbuilt state. This will cause the layer to be marked as built, despite not being actually built, which may cause failures down the line. Make sure to implement a proper `build()` method.\n",
      "  warnings.warn(\n"
     ]
    },
    {
     "name": "stdout",
     "output_type": "stream",
     "text": [
      "\u001b[1m21/21\u001b[0m \u001b[32m━━━━━━━━━━━━━━━━━━━━\u001b[0m\u001b[37m\u001b[0m \u001b[1m3s\u001b[0m 71ms/step - loss: 0.7704 - mae: 0.6662 - mse: 0.7704\n",
      "Epoch 2/10\n",
      "\u001b[1m21/21\u001b[0m \u001b[32m━━━━━━━━━━━━━━━━━━━━\u001b[0m\u001b[37m\u001b[0m \u001b[1m2s\u001b[0m 77ms/step - loss: 0.3804 - mae: 0.4602 - mse: 0.3804\n",
      "Epoch 3/10\n",
      "\u001b[1m21/21\u001b[0m \u001b[32m━━━━━━━━━━━━━━━━━━━━\u001b[0m\u001b[37m\u001b[0m \u001b[1m2s\u001b[0m 84ms/step - loss: 0.2834 - mae: 0.3900 - mse: 0.2834\n",
      "Epoch 4/10\n",
      "\u001b[1m21/21\u001b[0m \u001b[32m━━━━━━━━━━━━━━━━━━━━\u001b[0m\u001b[37m\u001b[0m \u001b[1m2s\u001b[0m 97ms/step - loss: 0.2118 - mae: 0.3329 - mse: 0.2118\n",
      "Epoch 5/10\n",
      "\u001b[1m21/21\u001b[0m \u001b[32m━━━━━━━━━━━━━━━━━━━━\u001b[0m\u001b[37m\u001b[0m \u001b[1m2s\u001b[0m 108ms/step - loss: 0.1576 - mae: 0.2820 - mse: 0.1576\n",
      "Epoch 6/10\n",
      "\u001b[1m21/21\u001b[0m \u001b[32m━━━━━━━━━━━━━━━━━━━━\u001b[0m\u001b[37m\u001b[0m \u001b[1m3s\u001b[0m 118ms/step - loss: 0.1178 - mae: 0.2381 - mse: 0.1178\n",
      "Epoch 7/10\n",
      "\u001b[1m21/21\u001b[0m \u001b[32m━━━━━━━━━━━━━━━━━━━━\u001b[0m\u001b[37m\u001b[0m \u001b[1m2s\u001b[0m 109ms/step - loss: 0.0940 - mae: 0.2099 - mse: 0.0940\n",
      "Epoch 8/10\n",
      "\u001b[1m21/21\u001b[0m \u001b[32m━━━━━━━━━━━━━━━━━━━━\u001b[0m\u001b[37m\u001b[0m \u001b[1m3s\u001b[0m 106ms/step - loss: 0.0899 - mae: 0.2114 - mse: 0.0899\n",
      "Epoch 9/10\n",
      "\u001b[1m21/21\u001b[0m \u001b[32m━━━━━━━━━━━━━━━━━━━━\u001b[0m\u001b[37m\u001b[0m \u001b[1m2s\u001b[0m 104ms/step - loss: 0.1995 - mae: 0.3604 - mse: 0.1995\n",
      "Epoch 10/10\n",
      "\u001b[1m21/21\u001b[0m \u001b[32m━━━━━━━━━━━━━━━━━━━━\u001b[0m\u001b[37m\u001b[0m \u001b[1m2s\u001b[0m 91ms/step - loss: 0.2334 - mae: 0.3843 - mse: 0.2334\n",
      "\u001b[1m84/84\u001b[0m \u001b[32m━━━━━━━━━━━━━━━━━━━━\u001b[0m\u001b[37m\u001b[0m \u001b[1m1s\u001b[0m 4ms/step\n",
      "Epoch 1/10\n"
     ]
    },
    {
     "name": "stderr",
     "output_type": "stream",
     "text": [
      "c:\\Users\\3742\\anaconda3\\envs\\ai4pfas\\Lib\\site-packages\\keras\\src\\layers\\layer.py:391: UserWarning: `build()` was called on layer 'dnn_ecfp_2', however the layer does not have a `build()` method implemented and it looks like it has unbuilt state. This will cause the layer to be marked as built, despite not being actually built, which may cause failures down the line. Make sure to implement a proper `build()` method.\n",
      "  warnings.warn(\n"
     ]
    },
    {
     "name": "stdout",
     "output_type": "stream",
     "text": [
      "\u001b[1m21/21\u001b[0m \u001b[32m━━━━━━━━━━━━━━━━━━━━\u001b[0m\u001b[37m\u001b[0m \u001b[1m5s\u001b[0m 86ms/step - loss: 0.7325 - mae: 0.6441 - mse: 0.7325\n",
      "Epoch 2/10\n",
      "\u001b[1m21/21\u001b[0m \u001b[32m━━━━━━━━━━━━━━━━━━━━\u001b[0m\u001b[37m\u001b[0m \u001b[1m2s\u001b[0m 84ms/step - loss: 0.3779 - mae: 0.4582 - mse: 0.3779\n",
      "Epoch 3/10\n",
      "\u001b[1m21/21\u001b[0m \u001b[32m━━━━━━━━━━━━━━━━━━━━\u001b[0m\u001b[37m\u001b[0m \u001b[1m2s\u001b[0m 96ms/step - loss: 0.2895 - mae: 0.3989 - mse: 0.2895\n",
      "Epoch 4/10\n",
      "\u001b[1m21/21\u001b[0m \u001b[32m━━━━━━━━━━━━━━━━━━━━\u001b[0m\u001b[37m\u001b[0m \u001b[1m2s\u001b[0m 101ms/step - loss: 0.2281 - mae: 0.3517 - mse: 0.2281\n",
      "Epoch 5/10\n",
      "\u001b[1m21/21\u001b[0m \u001b[32m━━━━━━━━━━━━━━━━━━━━\u001b[0m\u001b[37m\u001b[0m \u001b[1m2s\u001b[0m 98ms/step - loss: 0.2084 - mae: 0.3443 - mse: 0.2084\n",
      "Epoch 6/10\n",
      "\u001b[1m21/21\u001b[0m \u001b[32m━━━━━━━━━━━━━━━━━━━━\u001b[0m\u001b[37m\u001b[0m \u001b[1m2s\u001b[0m 100ms/step - loss: 0.1757 - mae: 0.3181 - mse: 0.1757\n",
      "Epoch 7/10\n",
      "\u001b[1m21/21\u001b[0m \u001b[32m━━━━━━━━━━━━━━━━━━━━\u001b[0m\u001b[37m\u001b[0m \u001b[1m2s\u001b[0m 105ms/step - loss: 0.1225 - mae: 0.2543 - mse: 0.1225\n",
      "Epoch 8/10\n",
      "\u001b[1m21/21\u001b[0m \u001b[32m━━━━━━━━━━━━━━━━━━━━\u001b[0m\u001b[37m\u001b[0m \u001b[1m2s\u001b[0m 92ms/step - loss: 0.0897 - mae: 0.2096 - mse: 0.0897\n",
      "Epoch 9/10\n",
      "\u001b[1m21/21\u001b[0m \u001b[32m━━━━━━━━━━━━━━━━━━━━\u001b[0m\u001b[37m\u001b[0m \u001b[1m2s\u001b[0m 87ms/step - loss: 0.0819 - mae: 0.2053 - mse: 0.0819\n",
      "Epoch 10/10\n",
      "\u001b[1m21/21\u001b[0m \u001b[32m━━━━━━━━━━━━━━━━━━━━\u001b[0m\u001b[37m\u001b[0m \u001b[1m2s\u001b[0m 93ms/step - loss: 0.0789 - mae: 0.2051 - mse: 0.0789\n",
      "\u001b[1m84/84\u001b[0m \u001b[32m━━━━━━━━━━━━━━━━━━━━\u001b[0m\u001b[37m\u001b[0m \u001b[1m1s\u001b[0m 5ms/step\n",
      "Epoch 1/10\n"
     ]
    },
    {
     "name": "stderr",
     "output_type": "stream",
     "text": [
      "c:\\Users\\3742\\anaconda3\\envs\\ai4pfas\\Lib\\site-packages\\keras\\src\\layers\\layer.py:391: UserWarning: `build()` was called on layer 'dnn_ecfp_3', however the layer does not have a `build()` method implemented and it looks like it has unbuilt state. This will cause the layer to be marked as built, despite not being actually built, which may cause failures down the line. Make sure to implement a proper `build()` method.\n",
      "  warnings.warn(\n"
     ]
    },
    {
     "name": "stdout",
     "output_type": "stream",
     "text": [
      "\u001b[1m21/21\u001b[0m \u001b[32m━━━━━━━━━━━━━━━━━━━━\u001b[0m\u001b[37m\u001b[0m \u001b[1m5s\u001b[0m 103ms/step - loss: 0.7269 - mae: 0.6359 - mse: 0.7269\n",
      "Epoch 2/10\n",
      "\u001b[1m21/21\u001b[0m \u001b[32m━━━━━━━━━━━━━━━━━━━━\u001b[0m\u001b[37m\u001b[0m \u001b[1m2s\u001b[0m 109ms/step - loss: 0.3736 - mae: 0.4551 - mse: 0.3736\n",
      "Epoch 3/10\n",
      "\u001b[1m21/21\u001b[0m \u001b[32m━━━━━━━━━━━━━━━━━━━━\u001b[0m\u001b[37m\u001b[0m \u001b[1m2s\u001b[0m 103ms/step - loss: 0.2775 - mae: 0.3859 - mse: 0.2775\n",
      "Epoch 4/10\n",
      "\u001b[1m21/21\u001b[0m \u001b[32m━━━━━━━━━━━━━━━━━━━━\u001b[0m\u001b[37m\u001b[0m \u001b[1m2s\u001b[0m 94ms/step - loss: 0.2055 - mae: 0.3257 - mse: 0.2055\n",
      "Epoch 5/10\n",
      "\u001b[1m21/21\u001b[0m \u001b[32m━━━━━━━━━━━━━━━━━━━━\u001b[0m\u001b[37m\u001b[0m \u001b[1m2s\u001b[0m 101ms/step - loss: 0.1509 - mae: 0.2729 - mse: 0.1509\n",
      "Epoch 6/10\n",
      "\u001b[1m21/21\u001b[0m \u001b[32m━━━━━━━━━━━━━━━━━━━━\u001b[0m\u001b[37m\u001b[0m \u001b[1m2s\u001b[0m 101ms/step - loss: 0.1150 - mae: 0.2323 - mse: 0.1150\n",
      "Epoch 7/10\n",
      "\u001b[1m21/21\u001b[0m \u001b[32m━━━━━━━━━━━━━━━━━━━━\u001b[0m\u001b[37m\u001b[0m \u001b[1m2s\u001b[0m 100ms/step - loss: 0.0980 - mae: 0.2158 - mse: 0.0980\n",
      "Epoch 8/10\n",
      "\u001b[1m21/21\u001b[0m \u001b[32m━━━━━━━━━━━━━━━━━━━━\u001b[0m\u001b[37m\u001b[0m \u001b[1m2s\u001b[0m 96ms/step - loss: 0.1199 - mae: 0.2601 - mse: 0.1199\n",
      "Epoch 9/10\n",
      "\u001b[1m21/21\u001b[0m \u001b[32m━━━━━━━━━━━━━━━━━━━━\u001b[0m\u001b[37m\u001b[0m \u001b[1m2s\u001b[0m 107ms/step - loss: 0.1253 - mae: 0.2662 - mse: 0.1253\n",
      "Epoch 10/10\n",
      "\u001b[1m21/21\u001b[0m \u001b[32m━━━━━━━━━━━━━━━━━━━━\u001b[0m\u001b[37m\u001b[0m \u001b[1m2s\u001b[0m 105ms/step - loss: 0.1436 - mae: 0.2943 - mse: 0.1436\n",
      "\u001b[1m84/84\u001b[0m \u001b[32m━━━━━━━━━━━━━━━━━━━━\u001b[0m\u001b[37m\u001b[0m \u001b[1m1s\u001b[0m 6ms/step\n",
      "Epoch 1/10\n"
     ]
    },
    {
     "name": "stderr",
     "output_type": "stream",
     "text": [
      "c:\\Users\\3742\\anaconda3\\envs\\ai4pfas\\Lib\\site-packages\\keras\\src\\layers\\layer.py:391: UserWarning: `build()` was called on layer 'dnn_ecfp_4', however the layer does not have a `build()` method implemented and it looks like it has unbuilt state. This will cause the layer to be marked as built, despite not being actually built, which may cause failures down the line. Make sure to implement a proper `build()` method.\n",
      "  warnings.warn(\n"
     ]
    },
    {
     "name": "stdout",
     "output_type": "stream",
     "text": [
      "\u001b[1m21/21\u001b[0m \u001b[32m━━━━━━━━━━━━━━━━━━━━\u001b[0m\u001b[37m\u001b[0m \u001b[1m4s\u001b[0m 83ms/step - loss: 0.6932 - mae: 0.6301 - mse: 0.6932\n",
      "Epoch 2/10\n",
      "\u001b[1m21/21\u001b[0m \u001b[32m━━━━━━━━━━━━━━━━━━━━\u001b[0m\u001b[37m\u001b[0m \u001b[1m2s\u001b[0m 85ms/step - loss: 0.3689 - mae: 0.4481 - mse: 0.3689\n",
      "Epoch 3/10\n",
      "\u001b[1m21/21\u001b[0m \u001b[32m━━━━━━━━━━━━━━━━━━━━\u001b[0m\u001b[37m\u001b[0m \u001b[1m2s\u001b[0m 83ms/step - loss: 0.2736 - mae: 0.3796 - mse: 0.2736\n",
      "Epoch 4/10\n",
      "\u001b[1m21/21\u001b[0m \u001b[32m━━━━━━━━━━━━━━━━━━━━\u001b[0m\u001b[37m\u001b[0m \u001b[1m2s\u001b[0m 84ms/step - loss: 0.2032 - mae: 0.3224 - mse: 0.2032\n",
      "Epoch 5/10\n",
      "\u001b[1m21/21\u001b[0m \u001b[32m━━━━━━━━━━━━━━━━━━━━\u001b[0m\u001b[37m\u001b[0m \u001b[1m2s\u001b[0m 86ms/step - loss: 0.1473 - mae: 0.2700 - mse: 0.1473\n",
      "Epoch 6/10\n",
      "\u001b[1m21/21\u001b[0m \u001b[32m━━━━━━━━━━━━━━━━━━━━\u001b[0m\u001b[37m\u001b[0m \u001b[1m2s\u001b[0m 88ms/step - loss: 0.1067 - mae: 0.2243 - mse: 0.1067\n",
      "Epoch 7/10\n",
      "\u001b[1m21/21\u001b[0m \u001b[32m━━━━━━━━━━━━━━━━━━━━\u001b[0m\u001b[37m\u001b[0m \u001b[1m2s\u001b[0m 93ms/step - loss: 0.0818 - mae: 0.1925 - mse: 0.0818\n",
      "Epoch 8/10\n",
      "\u001b[1m21/21\u001b[0m \u001b[32m━━━━━━━━━━━━━━━━━━━━\u001b[0m\u001b[37m\u001b[0m \u001b[1m2s\u001b[0m 96ms/step - loss: 0.0702 - mae: 0.1815 - mse: 0.0702\n",
      "Epoch 9/10\n",
      "\u001b[1m21/21\u001b[0m \u001b[32m━━━━━━━━━━━━━━━━━━━━\u001b[0m\u001b[37m\u001b[0m \u001b[1m2s\u001b[0m 92ms/step - loss: 0.1160 - mae: 0.2653 - mse: 0.1160\n",
      "Epoch 10/10\n",
      "\u001b[1m21/21\u001b[0m \u001b[32m━━━━━━━━━━━━━━━━━━━━\u001b[0m\u001b[37m\u001b[0m \u001b[1m2s\u001b[0m 94ms/step - loss: 0.1171 - mae: 0.2584 - mse: 0.1171\n",
      "\u001b[1m84/84\u001b[0m \u001b[32m━━━━━━━━━━━━━━━━━━━━\u001b[0m\u001b[37m\u001b[0m \u001b[1m1s\u001b[0m 6ms/step\n"
     ]
    }
   ],
   "source": [
    "import matplotlib.pyplot as plt\n",
    "loss_histories = {}\n",
    "\n",
    "for identity in run_benchmarks:\n",
    "    benchmark = _benchmarks[identity]\n",
    "    \n",
    "    folds = enumerate(kfold.get_folds(benchmark['encoding']))\n",
    "    \n",
    "    for fold_no, (train, test) in folds:           \n",
    "        x_train, y_train, smiles_train = train\n",
    "        x_test, y_test, smiles_test = test\n",
    "        \n",
    "        y_train = experimental_setup.scaler.fit_transform(y_train)\n",
    "        \n",
    "        model = _benchmarks[identity]['model']()\n",
    "        \n",
    "        # <Gaussian process has special step for selecting parameters based on\n",
    "        # RF benchmark models for ECFP and Mordred\n",
    "        if identity == 'gp':\n",
    "            fn = 'rf_mordred' + str(fold_no) + '_' + sampling_type\n",
    "            mordred_rf = _benchmarks['rf_mordred']['model']()\n",
    "            mordred_rf.load_weights('../../data/benchmark-models/chkpts/%s.chkpt' % fn)\n",
    "            \n",
    "            fn = 'rf_ecfp' + str(fold_no) + '_' + sampling_type\n",
    "            ecfp_rf = _benchmarks['rf_ecfp']['model']()\n",
    "            ecfp_rf.load_weights('../../data/benchmark-models/chkpts/%s.chkpt' % fn)\n",
    "            \n",
    "            model.rf_feature_selectors = (mordred_rf, ecfp_rf)\n",
    "            model.rf_feature_reduce_to = (10, 200)\n",
    "        # End of special GP step>\n",
    "        \n",
    "        #Mordred and ECPF Loss: \n",
    "        # Mordred and ECFP Loss collection\n",
    "        if identity == 'dnn_mordred':\n",
    "            DNN_mordredLosses = model.fit(x_train, y_train)\n",
    "            loss_histories.setdefault('dnn_mordred', []).append(DNN_mordredLosses)\n",
    "        \n",
    "        if identity == 'dnn_ecfp':     \n",
    "            DNN_ecfpLosses = model.fit(x_train, y_train)\n",
    "            loss_histories.setdefault('dnn_ecfp', []).append(DNN_ecfpLosses)\n",
    "               \n",
    "        #save model\n",
    "        fn = identity + str(fold_no) + '_' + sampling_type\n",
    "        model.save_weights('../../data/benchmark-models/chkpts/%s.chkpt' % fn)\n",
    "        \n",
    "        y_hat = experimental_setup.scaler.inverse_transform(model.predict(x_test)) \n",
    "        \n",
    "        results = pd.DataFrame({\n",
    "            'smiles': smiles_test.flatten(),\n",
    "            'prediction_neglogld50': y_hat.flatten(),\n",
    "            'prediction_mgkg': converter.convert_to_mgkg(y_hat, smiles_test),\n",
    "            'prediction_epa': converter.convert_to_epa(y_hat, smiles_test),\n",
    "            'actual_neglogld50': y_test.flatten(),\n",
    "            'actual_mgkg': converter.convert_to_mgkg(y_test, smiles_test),\n",
    "            'actual_epa': converter.convert_to_epa(y_test, smiles_test),\n",
    "        })\n",
    "        \n",
    "        results.to_csv('../../data/benchmark-models/%s_predictions.csv' % fn)"
   ]
  },
  {
   "cell_type": "code",
   "execution_count": 7,
   "metadata": {},
   "outputs": [
    {
     "name": "stdout",
     "output_type": "stream",
     "text": [
      "{'dnn_mordred': [   epoch           loss\n",
      "0      1  154909.453125\n",
      "1      2       1.145926\n",
      "2      3       0.969487\n",
      "3      4       0.934836\n",
      "4      5       0.919169\n",
      "5      6       0.922150\n",
      "6      7       0.900467\n",
      "7      8       0.893507\n",
      "8      9       0.884118\n",
      "9     10       0.880089,    epoch           loss\n",
      "0      1  160215.156250\n",
      "1      2       0.954747\n",
      "2      3       0.904864\n",
      "3      4       0.890992\n",
      "4      5       0.885640\n",
      "5      6       0.876533\n",
      "6      7       0.868740\n",
      "7      8       0.866671\n",
      "8      9       0.862403\n",
      "9     10       0.859484,    epoch           loss\n",
      "0      1  325285.437500\n",
      "1      2       4.893035\n",
      "2      3       1.391470\n",
      "3      4       1.432750\n",
      "4      5       1.363106\n",
      "5      6       1.323471\n",
      "6      7       1.273564\n",
      "7      8       1.123580\n",
      "8      9       1.087454\n",
      "9     10       1.090615,    epoch           loss\n",
      "0      1  237676.812500\n",
      "1      2       1.680271\n",
      "2      3       1.063602\n",
      "3      4       1.030532\n",
      "4      5       0.993634\n",
      "5      6       0.964005\n",
      "6      7       0.906886\n",
      "7      8       0.866184\n",
      "8      9       0.870415\n",
      "9     10       0.859587,    epoch           loss\n",
      "0      1  258116.250000\n",
      "1      2       2.455640\n",
      "2      3       1.233518\n",
      "3      4       1.105222\n",
      "4      5       1.046257\n",
      "5      6       1.021154\n",
      "6      7       1.007840\n",
      "7      8       0.998505\n",
      "8      9       0.999233\n",
      "9     10       1.024531], 'dnn_ecfp': [   epoch      loss\n",
      "0      1  0.659377\n",
      "1      2  0.379007\n",
      "2      3  0.279299\n",
      "3      4  0.205129\n",
      "4      5  0.149136\n",
      "5      6  0.109232\n",
      "6      7  0.083848\n",
      "7      8  0.070626\n",
      "8      9  0.075387\n",
      "9     10  0.137383,    epoch      loss\n",
      "0      1  0.655926\n",
      "1      2  0.376151\n",
      "2      3  0.279325\n",
      "3      4  0.207472\n",
      "4      5  0.154129\n",
      "5      6  0.117049\n",
      "6      7  0.097443\n",
      "7      8  0.102764\n",
      "8      9  0.237050\n",
      "9     10  0.172856,    epoch      loss\n",
      "0      1  0.640198\n",
      "1      2  0.373551\n",
      "2      3  0.285339\n",
      "3      4  0.224430\n",
      "4      5  0.209826\n",
      "5      6  0.163842\n",
      "6      7  0.116236\n",
      "7      8  0.089920\n",
      "8      9  0.075883\n",
      "9     10  0.075887,    epoch      loss\n",
      "0      1  0.635815\n",
      "1      2  0.369149\n",
      "2      3  0.273047\n",
      "3      4  0.199309\n",
      "4      5  0.145222\n",
      "5      6  0.109855\n",
      "6      7  0.095618\n",
      "7      8  0.120642\n",
      "8      9  0.145104\n",
      "9     10  0.142864,    epoch      loss\n",
      "0      1  0.628427\n",
      "1      2  0.372430\n",
      "2      3  0.274370\n",
      "3      4  0.201622\n",
      "4      5  0.146170\n",
      "5      6  0.106971\n",
      "6      7  0.085156\n",
      "7      8  0.078828\n",
      "8      9  0.125097\n",
      "9     10  0.163405]}\n"
     ]
    }
   ],
   "source": [
    "print(loss_histories)"
   ]
  },
  {
   "cell_type": "code",
   "execution_count": 10,
   "metadata": {},
   "outputs": [
    {
     "data": {
      "text/plain": [
       "<Figure size 1200x800 with 0 Axes>"
      ]
     },
     "metadata": {},
     "output_type": "display_data"
    },
    {
     "data": {
      "image/png": "[encoded data removed]",
      "text/plain": [
       "<Figure size 1200x800 with 1 Axes>"
      ]
     },
     "metadata": {},
     "output_type": "display_data"
    },
    {
     "data": {
      "text/plain": [
       "'plt.plot(history_df[\\'epoch\\'], history_df[\\'loss\\'], marker=\\'o\\', label=f\\'{model_name} Fold {fold_idx + 1}\\')\\nelse:\\n    print(\"No loss data available in loss_histories.\")\\n\\n# Add labels and title once outside the loop\\nplt.xlabel(\\'Epoch\\')\\nplt.ylabel(\\'Training Loss\\')\\nplt.title(\\'Training Loss per Epoch for DNN_Mordred and DNN_ECFP\\')\\nplt.legend()\\nplt.show()\\n\\n\\n\\n\\nfor model_name, losses in loss_histories.items():\\n    plt.figure(figsize=(10, 5))\\n    for fold_idx, history_df in enumerate(losses):\\n        plt.plot(history_df[\\'epoch\\'], history_df[\\'loss\\'], marker=\\'o\\', label=f\\'Fold {fold_idx + 1}\\')\\n    plt.title(f\\'Loss per Epoch for {model_name}\\')\\n    plt.xlabel(\\'Epoch\\')\\n    plt.ylabel(\\'Loss\\')\\n    plt.legend()\\n    plt.show()\\n\\n\\n# Plot losses for DNN_Mordred\\nif \\'dnn_mordred\\' in loss_histories:\\n    for fold_no, history_df in enumerate(loss_histories[\\'dnn_mordred\\']):\\n        plt.plot(history_df[\\'epoch\\'], history_df[\\'loss\\'], label=f\\'DNN_Mordred Fold {fold_no+1} Loss\\')\\n\\n# Plot losses for DNN_ECFP\\nif \\'dnn_ecfp\\' in loss_histories:\\n    for fold_no, history_df in enumerate(loss_histories[\\'dnn_ecfp\\']):\\n        plt.plot(history_df[\\'epoch\\'], history_df[\\'loss\\'], label=f\\'DNN_ECFP Fold {fold_no+1} Loss\\')\\n\\nplt.xlabel(\\'Epoch\\')\\nplt.ylabel(\\'Training Loss\\')\\nplt.title(\\'Training Loss per Epoch for DNN_Mordred and DNN_ECFP\\')\\nplt.legend()\\nplt.show() '"
      ]
     },
     "execution_count": 10,
     "metadata": {},
     "output_type": "execute_result"
    }
   ],
   "source": [
    "import matplotlib.pyplot as plt\n",
    "import pandas as pd\n",
    "\n",
    "average_loss_histories = {}\n",
    "\n",
    "# Plotting the losses for each model\n",
    "plt.figure(figsize=(12, 8))\n",
    "# Plot the losses after training\n",
    "# Check if loss_histories is populated with data\n",
    "if loss_histories:\n",
    "    for model_name, losses in loss_histories.items():\n",
    "        all_folds_losses = pd.DataFrame()\n",
    "\n",
    "        for fold_idx, history_df in enumerate(losses):\n",
    "            if history_df is not None and 'epoch' in history_df and 'loss' in history_df:\n",
    "                all_folds_losses[f'fold_{fold_idx+1}'] = history_df['loss']\n",
    "            else:\n",
    "                print(f\"Skipping {model_name} Fold {fold_idx + 1} due to missing data.\")\n",
    "        \n",
    "        if not all_folds_losses.empty:\n",
    "            average_loss_histories[model_name] = all_folds_losses.mean(axis=1)\n",
    "\n",
    "\n",
    "# Plotting the average losses per epoch for each model\n",
    "plt.figure(figsize=(12, 8))\n",
    "for model_name, avg_losses in average_loss_histories.items():\n",
    "    plt.plot(range(1, len(avg_losses) + 1), avg_losses, marker='o', label=f'{model_name} Average Loss')\n",
    "\n",
    "# Add labels and title\n",
    "plt.xlabel('Epoch')\n",
    "plt.ylabel('Average Training Loss')\n",
    "plt.title('Average Training Loss per Epoch Across Folds for Each Model')\n",
    "plt.legend()\n",
    "plt.show()\n",
    "\n",
    "'''plt.plot(history_df['epoch'], history_df['loss'], marker='o', label=f'{model_name} Fold {fold_idx + 1}')\n",
    "else:\n",
    "    print(\"No loss data available in loss_histories.\")\n",
    "\n",
    "# Add labels and title once outside the loop\n",
    "plt.xlabel('Epoch')\n",
    "plt.ylabel('Training Loss')\n",
    "plt.title('Training Loss per Epoch for DNN_Mordred and DNN_ECFP')\n",
    "plt.legend()\n",
    "plt.show()\n",
    "\n",
    "\n",
    "\n",
    "\n",
    "for model_name, losses in loss_histories.items():\n",
    "    plt.figure(figsize=(10, 5))\n",
    "    for fold_idx, history_df in enumerate(losses):\n",
    "        plt.plot(history_df['epoch'], history_df['loss'], marker='o', label=f'Fold {fold_idx + 1}')\n",
    "    plt.title(f'Loss per Epoch for {model_name}')\n",
    "    plt.xlabel('Epoch')\n",
    "    plt.ylabel('Loss')\n",
    "    plt.legend()\n",
    "    plt.show()\n",
    "\n",
    "\n",
    "# Plot losses for DNN_Mordred\n",
    "if 'dnn_mordred' in loss_histories:\n",
    "    for fold_no, history_df in enumerate(loss_histories['dnn_mordred']):\n",
    "        plt.plot(history_df['epoch'], history_df['loss'], label=f'DNN_Mordred Fold {fold_no+1} Loss')\n",
    "\n",
    "# Plot losses for DNN_ECFP\n",
    "if 'dnn_ecfp' in loss_histories:\n",
    "    for fold_no, history_df in enumerate(loss_histories['dnn_ecfp']):\n",
    "        plt.plot(history_df['epoch'], history_df['loss'], label=f'DNN_ECFP Fold {fold_no+1} Loss')\n",
    "\n",
    "plt.xlabel('Epoch')\n",
    "plt.ylabel('Training Loss')\n",
    "plt.title('Training Loss per Epoch for DNN_Mordred and DNN_ECFP')\n",
    "plt.legend()\n",
    "plt.show() '''"
   ]
  },
  {
   "cell_type": "markdown",
   "metadata": {},
   "source": [
    "# Results comparison"
   ]
  },
  {
   "cell_type": "code",
   "execution_count": 12,
   "metadata": {},
   "outputs": [
    {
     "name": "stderr",
     "output_type": "stream",
     "text": [
      "c:\\Users\\3742\\anaconda3\\envs\\ai4pfas\\Lib\\site-packages\\sklearn\\metrics\\_regression.py:492: FutureWarning: 'squared' is deprecated in version 1.4 and will be removed in 1.6. To calculate the root mean squared error, use the function'root_mean_squared_error'.\n",
      "  warnings.warn(\n",
      "c:\\Users\\3742\\anaconda3\\envs\\ai4pfas\\Lib\\site-packages\\sklearn\\metrics\\_regression.py:492: FutureWarning: 'squared' is deprecated in version 1.4 and will be removed in 1.6. To calculate the root mean squared error, use the function'root_mean_squared_error'.\n",
      "  warnings.warn(\n",
      "c:\\Users\\3742\\anaconda3\\envs\\ai4pfas\\Lib\\site-packages\\sklearn\\metrics\\_regression.py:492: FutureWarning: 'squared' is deprecated in version 1.4 and will be removed in 1.6. To calculate the root mean squared error, use the function'root_mean_squared_error'.\n",
      "  warnings.warn(\n",
      "c:\\Users\\3742\\anaconda3\\envs\\ai4pfas\\Lib\\site-packages\\sklearn\\metrics\\_regression.py:492: FutureWarning: 'squared' is deprecated in version 1.4 and will be removed in 1.6. To calculate the root mean squared error, use the function'root_mean_squared_error'.\n",
      "  warnings.warn(\n",
      "c:\\Users\\3742\\anaconda3\\envs\\ai4pfas\\Lib\\site-packages\\sklearn\\metrics\\_regression.py:492: FutureWarning: 'squared' is deprecated in version 1.4 and will be removed in 1.6. To calculate the root mean squared error, use the function'root_mean_squared_error'.\n",
      "  warnings.warn(\n",
      "c:\\Users\\3742\\anaconda3\\envs\\ai4pfas\\Lib\\site-packages\\sklearn\\metrics\\_regression.py:492: FutureWarning: 'squared' is deprecated in version 1.4 and will be removed in 1.6. To calculate the root mean squared error, use the function'root_mean_squared_error'.\n",
      "  warnings.warn(\n",
      "c:\\Users\\3742\\anaconda3\\envs\\ai4pfas\\Lib\\site-packages\\sklearn\\metrics\\_regression.py:492: FutureWarning: 'squared' is deprecated in version 1.4 and will be removed in 1.6. To calculate the root mean squared error, use the function'root_mean_squared_error'.\n",
      "  warnings.warn(\n",
      "c:\\Users\\3742\\anaconda3\\envs\\ai4pfas\\Lib\\site-packages\\sklearn\\metrics\\_regression.py:492: FutureWarning: 'squared' is deprecated in version 1.4 and will be removed in 1.6. To calculate the root mean squared error, use the function'root_mean_squared_error'.\n",
      "  warnings.warn(\n",
      "c:\\Users\\3742\\anaconda3\\envs\\ai4pfas\\Lib\\site-packages\\sklearn\\metrics\\_regression.py:492: FutureWarning: 'squared' is deprecated in version 1.4 and will be removed in 1.6. To calculate the root mean squared error, use the function'root_mean_squared_error'.\n",
      "  warnings.warn(\n",
      "c:\\Users\\3742\\anaconda3\\envs\\ai4pfas\\Lib\\site-packages\\sklearn\\metrics\\_regression.py:492: FutureWarning: 'squared' is deprecated in version 1.4 and will be removed in 1.6. To calculate the root mean squared error, use the function'root_mean_squared_error'.\n",
      "  warnings.warn(\n"
     ]
    }
   ],
   "source": [
    "from sklearn.metrics import r2_score, mean_absolute_error, mean_squared_error\n",
    "\n",
    "compare_benchmarks = ['dnn_mordred','dnn_ecfp'] #,'gp','gcn'] \n",
    "#compare_benchmarks = ['rf_mordred','rf_ecfp','rf_nmf_ecfp','dnn_mordred','dnn_ecfp','gp','gcn'] \n",
    "\n",
    "aggregated = pd.DataFrame()\n",
    "    \n",
    "for identity in compare_benchmarks:\n",
    "    benchmark = _benchmarks[identity]\n",
    "    \n",
    "    folds = enumerate(kfold.get_folds(benchmark['encoding']))\n",
    "    \n",
    "    for fold_no, data in folds:\n",
    "        fn = identity + str(fold_no) + '_' + sampling_type\n",
    "        \n",
    "        validation = pd.read_csv('../../data/benchmark-models/%s_predictions.csv' % fn)\n",
    "        \n",
    "        '''aggregated = aggregated.append({\n",
    "            'benchmark': identity,\n",
    "            'r2': r2_score(validation['actual_neglogld50'], validation['prediction_neglogld50']),\n",
    "            'mae': mean_absolute_error(validation['actual_neglogld50'], validation['prediction_neglogld50']),\n",
    "            'rmse': mean_squared_error(validation['actual_neglogld50'], validation['prediction_neglogld50'], squared=False),\n",
    "            'accuracy': np.sum(validation['actual_epa'] == validation['prediction_epa']) / len(validation)\n",
    "        }, ignore_index=True) '''\n",
    "\n",
    "\n",
    "        #   Create a temporary DataFrame for each result\n",
    "        temp_df = pd.DataFrame({\n",
    "            'benchmark': [identity],\n",
    "            'r2': [r2_score(validation['actual_neglogld50'], validation['prediction_neglogld50'])],\n",
    "            'mae': [mean_absolute_error(validation['actual_neglogld50'], validation['prediction_neglogld50'])],\n",
    "            'rmse': [mean_squared_error(validation['actual_neglogld50'], validation['prediction_neglogld50'], squared=False)],\n",
    "            'accuracy': [np.sum(validation['actual_epa'] == validation['prediction_epa']) / len(validation)],\n",
    "            'variance': [np.var(validation['actual_neglogld50'], ddof=1)],  # ddof=1 for sample variance\n",
    "            'prediction-variance': [np.var(validation['prediction_neglogld50'], ddof=1)],  # ddof=1 for sample variance\n",
    "            #'Coef-Of Variance-Actual': np.std(validation['actual_neglogld50']) / np.mean(validation['actual_neglogld50']),\n",
    "            #'Coef-Of Variance-Predicted': np.std(validation['prediction_neglogld50']) / np.mean(validation['prediction_neglogld50'])\n",
    "\n",
    "        })\n",
    "        \n",
    "        # Use pd.concat() to append the temp_df to the aggregated DataFrame\n",
    "        aggregated = pd.concat([aggregated, temp_df], ignore_index=True)\n",
    "\n",
    "# The DataFrame 'aggregated' now contains the results from all benchmarks."
   ]
  },
  {
   "cell_type": "code",
   "execution_count": 13,
   "metadata": {
    "scrolled": false
   },
   "outputs": [
    {
     "name": "stderr",
     "output_type": "stream",
     "text": [
      "C:\\Users\\3742\\AppData\\Local\\Temp\\ipykernel_6748\\3530873064.py:1: FutureWarning: The provided callable <function mean at 0x00000211D0314040> is currently using DataFrameGroupBy.mean. In a future version of pandas, the provided callable will be used directly. To keep current behavior pass the string \"mean\" instead.\n",
      "  aggregated.pivot_table(index='benchmark', aggfunc=np.mean)\n"
     ]
    },
    {
     "data": {
      "text/html": [
       "<div>\n",
       "<style scoped>\n",
       "    .dataframe tbody tr th:only-of-type {\n",
       "        vertical-align: middle;\n",
       "    }\n",
       "\n",
       "    .dataframe tbody tr th {\n",
       "        vertical-align: top;\n",
       "    }\n",
       "\n",
       "    .dataframe thead th {\n",
       "        text-align: right;\n",
       "    }\n",
       "</style>\n",
       "<table border=\"1\" class=\"dataframe\">\n",
       "  <thead>\n",
       "    <tr style=\"text-align: right;\">\n",
       "      <th></th>\n",
       "      <th>accuracy</th>\n",
       "      <th>mae</th>\n",
       "      <th>prediction-variance</th>\n",
       "      <th>r2</th>\n",
       "      <th>rmse</th>\n",
       "      <th>variance</th>\n",
       "    </tr>\n",
       "    <tr>\n",
       "      <th>benchmark</th>\n",
       "      <th></th>\n",
       "      <th></th>\n",
       "      <th></th>\n",
       "      <th></th>\n",
       "      <th></th>\n",
       "      <th></th>\n",
       "    </tr>\n",
       "  </thead>\n",
       "  <tbody>\n",
       "    <tr>\n",
       "      <th>dnn_ecfp</th>\n",
       "      <td>0.634782</td>\n",
       "      <td>0.389473</td>\n",
       "      <td>0.552149</td>\n",
       "      <td>0.617458</td>\n",
       "      <td>0.544737</td>\n",
       "      <td>0.777076</td>\n",
       "    </tr>\n",
       "    <tr>\n",
       "      <th>dnn_mordred</th>\n",
       "      <td>0.468904</td>\n",
       "      <td>0.659743</td>\n",
       "      <td>0.169379</td>\n",
       "      <td>-0.008905</td>\n",
       "      <td>0.881784</td>\n",
       "      <td>0.777076</td>\n",
       "    </tr>\n",
       "  </tbody>\n",
       "</table>\n",
       "</div>"
      ],
      "text/plain": [
       "             accuracy       mae  prediction-variance        r2      rmse  \\\n",
       "benchmark                                                                  \n",
       "dnn_ecfp     0.634782  0.389473             0.552149  0.617458  0.544737   \n",
       "dnn_mordred  0.468904  0.659743             0.169379 -0.008905  0.881784   \n",
       "\n",
       "             variance  \n",
       "benchmark              \n",
       "dnn_ecfp     0.777076  \n",
       "dnn_mordred  0.777076  "
      ]
     },
     "execution_count": 13,
     "metadata": {},
     "output_type": "execute_result"
    }
   ],
   "source": [
    "aggregated.pivot_table(index='benchmark', aggfunc=np.mean)"
   ]
  },
  {
   "cell_type": "code",
   "execution_count": 15,
   "metadata": {},
   "outputs": [
    {
     "ename": "IndexError",
     "evalue": "At least one sheet must be visible",
     "output_type": "error",
     "traceback": [
      "\u001b[1;31m---------------------------------------------------------------------------\u001b[0m",
      "\u001b[1;31mKeyError\u001b[0m                                  Traceback (most recent call last)",
      "Cell \u001b[1;32mIn[15], line 13\u001b[0m\n\u001b[0;32m     12\u001b[0m \u001b[38;5;28;01mfor\u001b[39;00m identity \u001b[38;5;129;01min\u001b[39;00m compare_benchmarks:\n\u001b[1;32m---> 13\u001b[0m     actual \u001b[38;5;241m=\u001b[39m \u001b[43mbenchmark\u001b[49m\u001b[43m[\u001b[49m\u001b[43midentity\u001b[49m\u001b[43m]\u001b[49m[\u001b[38;5;124m'\u001b[39m\u001b[38;5;124mactual\u001b[39m\u001b[38;5;124m'\u001b[39m]\n\u001b[0;32m     14\u001b[0m     predicted \u001b[38;5;241m=\u001b[39m benchmark[identity][\u001b[38;5;124m'\u001b[39m\u001b[38;5;124mpredicted\u001b[39m\u001b[38;5;124m'\u001b[39m]\n",
      "\u001b[1;31mKeyError\u001b[0m: 'dnn_mordred'",
      "\nDuring handling of the above exception, another exception occurred:\n",
      "\u001b[1;31mIndexError\u001b[0m                                Traceback (most recent call last)",
      "Cell \u001b[1;32mIn[15], line 11\u001b[0m\n\u001b[0;32m      7\u001b[0m \u001b[38;5;28;01mfrom\u001b[39;00m \u001b[38;5;21;01msklearn\u001b[39;00m\u001b[38;5;21;01m.\u001b[39;00m\u001b[38;5;21;01mmetrics\u001b[39;00m \u001b[38;5;28;01mimport\u001b[39;00m confusion_matrix, precision_score, recall_score, f1_score\n\u001b[0;32m     10\u001b[0m output_file \u001b[38;5;241m=\u001b[39m \u001b[38;5;124m'\u001b[39m\u001b[38;5;124mConsolRes.xlsx\u001b[39m\u001b[38;5;124m'\u001b[39m\n\u001b[1;32m---> 11\u001b[0m \u001b[38;5;28;43;01mwith\u001b[39;49;00m\u001b[43m \u001b[49m\u001b[43mpd\u001b[49m\u001b[38;5;241;43m.\u001b[39;49m\u001b[43mExcelWriter\u001b[49m\u001b[43m(\u001b[49m\u001b[43moutput_file\u001b[49m\u001b[43m,\u001b[49m\u001b[43m \u001b[49m\u001b[43mengine\u001b[49m\u001b[38;5;241;43m=\u001b[39;49m\u001b[38;5;124;43m'\u001b[39;49m\u001b[38;5;124;43mopenpyxl\u001b[39;49m\u001b[38;5;124;43m'\u001b[39;49m\u001b[43m)\u001b[49m\u001b[43m \u001b[49m\u001b[38;5;28;43;01mas\u001b[39;49;00m\u001b[43m \u001b[49m\u001b[43mwriter\u001b[49m\u001b[43m:\u001b[49m\n\u001b[0;32m     12\u001b[0m \u001b[43m    \u001b[49m\u001b[38;5;28;43;01mfor\u001b[39;49;00m\u001b[43m \u001b[49m\u001b[43midentity\u001b[49m\u001b[43m \u001b[49m\u001b[38;5;129;43;01min\u001b[39;49;00m\u001b[43m \u001b[49m\u001b[43mcompare_benchmarks\u001b[49m\u001b[43m:\u001b[49m\n\u001b[0;32m     13\u001b[0m \u001b[43m        \u001b[49m\u001b[43mactual\u001b[49m\u001b[43m \u001b[49m\u001b[38;5;241;43m=\u001b[39;49m\u001b[43m \u001b[49m\u001b[43mbenchmark\u001b[49m\u001b[43m[\u001b[49m\u001b[43midentity\u001b[49m\u001b[43m]\u001b[49m\u001b[43m[\u001b[49m\u001b[38;5;124;43m'\u001b[39;49m\u001b[38;5;124;43mactual\u001b[39;49m\u001b[38;5;124;43m'\u001b[39;49m\u001b[43m]\u001b[49m\n",
      "File \u001b[1;32mc:\\Users\\3742\\anaconda3\\envs\\ai4pfas\\Lib\\site-packages\\pandas\\io\\excel\\_base.py:1353\u001b[0m, in \u001b[0;36mExcelWriter.__exit__\u001b[1;34m(self, exc_type, exc_value, traceback)\u001b[0m\n\u001b[0;32m   1347\u001b[0m \u001b[38;5;28;01mdef\u001b[39;00m \u001b[38;5;21m__exit__\u001b[39m(\n\u001b[0;32m   1348\u001b[0m     \u001b[38;5;28mself\u001b[39m,\n\u001b[0;32m   1349\u001b[0m     exc_type: \u001b[38;5;28mtype\u001b[39m[\u001b[38;5;167;01mBaseException\u001b[39;00m] \u001b[38;5;241m|\u001b[39m \u001b[38;5;28;01mNone\u001b[39;00m,\n\u001b[0;32m   1350\u001b[0m     exc_value: \u001b[38;5;167;01mBaseException\u001b[39;00m \u001b[38;5;241m|\u001b[39m \u001b[38;5;28;01mNone\u001b[39;00m,\n\u001b[0;32m   1351\u001b[0m     traceback: TracebackType \u001b[38;5;241m|\u001b[39m \u001b[38;5;28;01mNone\u001b[39;00m,\n\u001b[0;32m   1352\u001b[0m ) \u001b[38;5;241m-\u001b[39m\u001b[38;5;241m>\u001b[39m \u001b[38;5;28;01mNone\u001b[39;00m:\n\u001b[1;32m-> 1353\u001b[0m     \u001b[38;5;28;43mself\u001b[39;49m\u001b[38;5;241;43m.\u001b[39;49m\u001b[43mclose\u001b[49m\u001b[43m(\u001b[49m\u001b[43m)\u001b[49m\n",
      "File \u001b[1;32mc:\\Users\\3742\\anaconda3\\envs\\ai4pfas\\Lib\\site-packages\\pandas\\io\\excel\\_base.py:1357\u001b[0m, in \u001b[0;36mExcelWriter.close\u001b[1;34m(self)\u001b[0m\n\u001b[0;32m   1355\u001b[0m \u001b[38;5;28;01mdef\u001b[39;00m \u001b[38;5;21mclose\u001b[39m(\u001b[38;5;28mself\u001b[39m) \u001b[38;5;241m-\u001b[39m\u001b[38;5;241m>\u001b[39m \u001b[38;5;28;01mNone\u001b[39;00m:\n\u001b[0;32m   1356\u001b[0m \u001b[38;5;250m    \u001b[39m\u001b[38;5;124;03m\"\"\"synonym for save, to make it more file-like\"\"\"\u001b[39;00m\n\u001b[1;32m-> 1357\u001b[0m     \u001b[38;5;28;43mself\u001b[39;49m\u001b[38;5;241;43m.\u001b[39;49m\u001b[43m_save\u001b[49m\u001b[43m(\u001b[49m\u001b[43m)\u001b[49m\n\u001b[0;32m   1358\u001b[0m     \u001b[38;5;28mself\u001b[39m\u001b[38;5;241m.\u001b[39m_handles\u001b[38;5;241m.\u001b[39mclose()\n",
      "File \u001b[1;32mc:\\Users\\3742\\anaconda3\\envs\\ai4pfas\\Lib\\site-packages\\pandas\\io\\excel\\_openpyxl.py:110\u001b[0m, in \u001b[0;36mOpenpyxlWriter._save\u001b[1;34m(self)\u001b[0m\n\u001b[0;32m    106\u001b[0m \u001b[38;5;28;01mdef\u001b[39;00m \u001b[38;5;21m_save\u001b[39m(\u001b[38;5;28mself\u001b[39m) \u001b[38;5;241m-\u001b[39m\u001b[38;5;241m>\u001b[39m \u001b[38;5;28;01mNone\u001b[39;00m:\n\u001b[0;32m    107\u001b[0m \u001b[38;5;250m    \u001b[39m\u001b[38;5;124;03m\"\"\"\u001b[39;00m\n\u001b[0;32m    108\u001b[0m \u001b[38;5;124;03m    Save workbook to disk.\u001b[39;00m\n\u001b[0;32m    109\u001b[0m \u001b[38;5;124;03m    \"\"\"\u001b[39;00m\n\u001b[1;32m--> 110\u001b[0m     \u001b[38;5;28;43mself\u001b[39;49m\u001b[38;5;241;43m.\u001b[39;49m\u001b[43mbook\u001b[49m\u001b[38;5;241;43m.\u001b[39;49m\u001b[43msave\u001b[49m\u001b[43m(\u001b[49m\u001b[38;5;28;43mself\u001b[39;49m\u001b[38;5;241;43m.\u001b[39;49m\u001b[43m_handles\u001b[49m\u001b[38;5;241;43m.\u001b[39;49m\u001b[43mhandle\u001b[49m\u001b[43m)\u001b[49m\n\u001b[0;32m    111\u001b[0m     \u001b[38;5;28;01mif\u001b[39;00m \u001b[38;5;124m\"\u001b[39m\u001b[38;5;124mr+\u001b[39m\u001b[38;5;124m\"\u001b[39m \u001b[38;5;129;01min\u001b[39;00m \u001b[38;5;28mself\u001b[39m\u001b[38;5;241m.\u001b[39m_mode \u001b[38;5;129;01mand\u001b[39;00m \u001b[38;5;129;01mnot\u001b[39;00m \u001b[38;5;28misinstance\u001b[39m(\u001b[38;5;28mself\u001b[39m\u001b[38;5;241m.\u001b[39m_handles\u001b[38;5;241m.\u001b[39mhandle, mmap\u001b[38;5;241m.\u001b[39mmmap):\n\u001b[0;32m    112\u001b[0m         \u001b[38;5;66;03m# truncate file to the written content\u001b[39;00m\n\u001b[0;32m    113\u001b[0m         \u001b[38;5;28mself\u001b[39m\u001b[38;5;241m.\u001b[39m_handles\u001b[38;5;241m.\u001b[39mhandle\u001b[38;5;241m.\u001b[39mtruncate()\n",
      "File \u001b[1;32mc:\\Users\\3742\\anaconda3\\envs\\ai4pfas\\Lib\\site-packages\\openpyxl\\workbook\\workbook.py:386\u001b[0m, in \u001b[0;36mWorkbook.save\u001b[1;34m(self, filename)\u001b[0m\n\u001b[0;32m    384\u001b[0m \u001b[38;5;28;01mif\u001b[39;00m \u001b[38;5;28mself\u001b[39m\u001b[38;5;241m.\u001b[39mwrite_only \u001b[38;5;129;01mand\u001b[39;00m \u001b[38;5;129;01mnot\u001b[39;00m \u001b[38;5;28mself\u001b[39m\u001b[38;5;241m.\u001b[39mworksheets:\n\u001b[0;32m    385\u001b[0m     \u001b[38;5;28mself\u001b[39m\u001b[38;5;241m.\u001b[39mcreate_sheet()\n\u001b[1;32m--> 386\u001b[0m \u001b[43msave_workbook\u001b[49m\u001b[43m(\u001b[49m\u001b[38;5;28;43mself\u001b[39;49m\u001b[43m,\u001b[49m\u001b[43m \u001b[49m\u001b[43mfilename\u001b[49m\u001b[43m)\u001b[49m\n",
      "File \u001b[1;32mc:\\Users\\3742\\anaconda3\\envs\\ai4pfas\\Lib\\site-packages\\openpyxl\\writer\\excel.py:294\u001b[0m, in \u001b[0;36msave_workbook\u001b[1;34m(workbook, filename)\u001b[0m\n\u001b[0;32m    292\u001b[0m workbook\u001b[38;5;241m.\u001b[39mproperties\u001b[38;5;241m.\u001b[39mmodified \u001b[38;5;241m=\u001b[39m datetime\u001b[38;5;241m.\u001b[39mdatetime\u001b[38;5;241m.\u001b[39mnow(tz\u001b[38;5;241m=\u001b[39mdatetime\u001b[38;5;241m.\u001b[39mtimezone\u001b[38;5;241m.\u001b[39mutc)\u001b[38;5;241m.\u001b[39mreplace(tzinfo\u001b[38;5;241m=\u001b[39m\u001b[38;5;28;01mNone\u001b[39;00m)\n\u001b[0;32m    293\u001b[0m writer \u001b[38;5;241m=\u001b[39m ExcelWriter(workbook, archive)\n\u001b[1;32m--> 294\u001b[0m \u001b[43mwriter\u001b[49m\u001b[38;5;241;43m.\u001b[39;49m\u001b[43msave\u001b[49m\u001b[43m(\u001b[49m\u001b[43m)\u001b[49m\n\u001b[0;32m    295\u001b[0m \u001b[38;5;28;01mreturn\u001b[39;00m \u001b[38;5;28;01mTrue\u001b[39;00m\n",
      "File \u001b[1;32mc:\\Users\\3742\\anaconda3\\envs\\ai4pfas\\Lib\\site-packages\\openpyxl\\writer\\excel.py:275\u001b[0m, in \u001b[0;36mExcelWriter.save\u001b[1;34m(self)\u001b[0m\n\u001b[0;32m    273\u001b[0m \u001b[38;5;28;01mdef\u001b[39;00m \u001b[38;5;21msave\u001b[39m(\u001b[38;5;28mself\u001b[39m):\n\u001b[0;32m    274\u001b[0m \u001b[38;5;250m    \u001b[39m\u001b[38;5;124;03m\"\"\"Write data into the archive.\"\"\"\u001b[39;00m\n\u001b[1;32m--> 275\u001b[0m     \u001b[38;5;28;43mself\u001b[39;49m\u001b[38;5;241;43m.\u001b[39;49m\u001b[43mwrite_data\u001b[49m\u001b[43m(\u001b[49m\u001b[43m)\u001b[49m\n\u001b[0;32m    276\u001b[0m     \u001b[38;5;28mself\u001b[39m\u001b[38;5;241m.\u001b[39m_archive\u001b[38;5;241m.\u001b[39mclose()\n",
      "File \u001b[1;32mc:\\Users\\3742\\anaconda3\\envs\\ai4pfas\\Lib\\site-packages\\openpyxl\\writer\\excel.py:89\u001b[0m, in \u001b[0;36mExcelWriter.write_data\u001b[1;34m(self)\u001b[0m\n\u001b[0;32m     87\u001b[0m writer \u001b[38;5;241m=\u001b[39m WorkbookWriter(\u001b[38;5;28mself\u001b[39m\u001b[38;5;241m.\u001b[39mworkbook)\n\u001b[0;32m     88\u001b[0m archive\u001b[38;5;241m.\u001b[39mwritestr(ARC_ROOT_RELS, writer\u001b[38;5;241m.\u001b[39mwrite_root_rels())\n\u001b[1;32m---> 89\u001b[0m archive\u001b[38;5;241m.\u001b[39mwritestr(ARC_WORKBOOK, \u001b[43mwriter\u001b[49m\u001b[38;5;241;43m.\u001b[39;49m\u001b[43mwrite\u001b[49m\u001b[43m(\u001b[49m\u001b[43m)\u001b[49m)\n\u001b[0;32m     90\u001b[0m archive\u001b[38;5;241m.\u001b[39mwritestr(ARC_WORKBOOK_RELS, writer\u001b[38;5;241m.\u001b[39mwrite_rels())\n\u001b[0;32m     92\u001b[0m \u001b[38;5;28mself\u001b[39m\u001b[38;5;241m.\u001b[39m_merge_vba()\n",
      "File \u001b[1;32mc:\\Users\\3742\\anaconda3\\envs\\ai4pfas\\Lib\\site-packages\\openpyxl\\workbook\\_writer.py:150\u001b[0m, in \u001b[0;36mWorkbookWriter.write\u001b[1;34m(self)\u001b[0m\n\u001b[0;32m    148\u001b[0m \u001b[38;5;28mself\u001b[39m\u001b[38;5;241m.\u001b[39mwrite_names()\n\u001b[0;32m    149\u001b[0m \u001b[38;5;28mself\u001b[39m\u001b[38;5;241m.\u001b[39mwrite_pivots()\n\u001b[1;32m--> 150\u001b[0m \u001b[38;5;28;43mself\u001b[39;49m\u001b[38;5;241;43m.\u001b[39;49m\u001b[43mwrite_views\u001b[49m\u001b[43m(\u001b[49m\u001b[43m)\u001b[49m\n\u001b[0;32m    151\u001b[0m \u001b[38;5;28mself\u001b[39m\u001b[38;5;241m.\u001b[39mwrite_refs()\n\u001b[0;32m    153\u001b[0m \u001b[38;5;28;01mreturn\u001b[39;00m tostring(\u001b[38;5;28mself\u001b[39m\u001b[38;5;241m.\u001b[39mpackage\u001b[38;5;241m.\u001b[39mto_tree())\n",
      "File \u001b[1;32mc:\\Users\\3742\\anaconda3\\envs\\ai4pfas\\Lib\\site-packages\\openpyxl\\workbook\\_writer.py:137\u001b[0m, in \u001b[0;36mWorkbookWriter.write_views\u001b[1;34m(self)\u001b[0m\n\u001b[0;32m    136\u001b[0m \u001b[38;5;28;01mdef\u001b[39;00m \u001b[38;5;21mwrite_views\u001b[39m(\u001b[38;5;28mself\u001b[39m):\n\u001b[1;32m--> 137\u001b[0m     active \u001b[38;5;241m=\u001b[39m \u001b[43mget_active_sheet\u001b[49m\u001b[43m(\u001b[49m\u001b[38;5;28;43mself\u001b[39;49m\u001b[38;5;241;43m.\u001b[39;49m\u001b[43mwb\u001b[49m\u001b[43m)\u001b[49m\n\u001b[0;32m    138\u001b[0m     \u001b[38;5;28;01mif\u001b[39;00m \u001b[38;5;28mself\u001b[39m\u001b[38;5;241m.\u001b[39mwb\u001b[38;5;241m.\u001b[39mviews:\n\u001b[0;32m    139\u001b[0m         \u001b[38;5;28mself\u001b[39m\u001b[38;5;241m.\u001b[39mwb\u001b[38;5;241m.\u001b[39mviews[\u001b[38;5;241m0\u001b[39m]\u001b[38;5;241m.\u001b[39mactiveTab \u001b[38;5;241m=\u001b[39m active\n",
      "File \u001b[1;32mc:\\Users\\3742\\anaconda3\\envs\\ai4pfas\\Lib\\site-packages\\openpyxl\\workbook\\_writer.py:35\u001b[0m, in \u001b[0;36mget_active_sheet\u001b[1;34m(wb)\u001b[0m\n\u001b[0;32m     33\u001b[0m visible_sheets \u001b[38;5;241m=\u001b[39m [idx \u001b[38;5;28;01mfor\u001b[39;00m idx, sheet \u001b[38;5;129;01min\u001b[39;00m \u001b[38;5;28menumerate\u001b[39m(wb\u001b[38;5;241m.\u001b[39m_sheets) \u001b[38;5;28;01mif\u001b[39;00m sheet\u001b[38;5;241m.\u001b[39msheet_state \u001b[38;5;241m==\u001b[39m \u001b[38;5;124m\"\u001b[39m\u001b[38;5;124mvisible\u001b[39m\u001b[38;5;124m\"\u001b[39m]\n\u001b[0;32m     34\u001b[0m \u001b[38;5;28;01mif\u001b[39;00m \u001b[38;5;129;01mnot\u001b[39;00m visible_sheets:\n\u001b[1;32m---> 35\u001b[0m     \u001b[38;5;28;01mraise\u001b[39;00m \u001b[38;5;167;01mIndexError\u001b[39;00m(\u001b[38;5;124m\"\u001b[39m\u001b[38;5;124mAt least one sheet must be visible\u001b[39m\u001b[38;5;124m\"\u001b[39m)\n\u001b[0;32m     37\u001b[0m idx \u001b[38;5;241m=\u001b[39m wb\u001b[38;5;241m.\u001b[39m_active_sheet_index\n\u001b[0;32m     38\u001b[0m sheet \u001b[38;5;241m=\u001b[39m wb\u001b[38;5;241m.\u001b[39mactive\n",
      "\u001b[1;31mIndexError\u001b[0m: At least one sheet must be visible"
     ]
    }
   ],
   "source": [
    "#Results Using 5 Folds.\n",
    "import pandas as pd\n",
    "import numpy as np\n",
    "from sklearn.metrics import r2_score, mean_absolute_error, mean_squared_error, confusion_matrix\n",
    "import matplotlib.pyplot as plt\n",
    "import seaborn as sns\n",
    "from sklearn.metrics import confusion_matrix, precision_score, recall_score, f1_score\n",
    "\n",
    "\n",
    "output_file = 'ConsolRes.xlsx'\n",
    "with pd.ExcelWriter(output_file, engine='openpyxl') as writer:\n",
    "    for identity in compare_benchmarks:\n",
    "        actual = benchmark[identity]['actual']\n",
    "        predicted = benchmark[identity]['predicted']\n",
    "        \n",
    "        \n",
    "        unique_classes = np.sort(np.unique(np.concatenate((actual, predicted))))  # Ensure consistent class order\n",
    "        cm = confusion_matrix(actual, predicted, labels=unique_classes)\n",
    "\n",
    "        cm_df = pd.DataFrame(cm, index=unique_classes, columns=unique_classes)\n",
    "        # Add row totals\n",
    "        cm_df['Row Totals'] = cm_df.sum(axis=1)\n",
    "\n",
    "        # Add column totals\n",
    "        cm_df.loc['Column Totals'] = cm_df.sum(axis=0)\n",
    "\n",
    "        \n",
    "        # Write the confusion matrix with totals to a specified sheet in the Excel file\n",
    "        sheet_name = f'{identity}x_train-y-train_Confusion_Matrix'\n",
    "        cm_df.to_excel(writer, sheet_name=sheet_name)\n",
    "\n",
    "        plt.figure(figsize=(10, 8))\n",
    "        sns.heatmap(cm_df, annot=True, fmt='d', cmap='Blues', cbar=True, cbar_kws={'shrink': 0.8}, \n",
    "                    xticklabels=unique_classes, yticklabels=unique_classes)\n",
    "        #sns.heatmap(cm, annot=True, fmt='d', cmap='Blues', cbar=False, xticklabels=unique_classes, yticklabels=unique_classes)\n",
    "        plt.title(f'Confusion Matrix for {identity} using {fold_no +1} folds')\n",
    "        plt.xlabel('Predicted EPA Class')\n",
    "        plt.ylabel('Actual EPA Class')\n",
    "        plt.show()\n",
    "\n",
    "\n",
    "# Placeholder for results\n",
    "    results = []\n",
    "\n",
    "    for identity in compare_benchmarks:\n",
    "        actual = benchmark_results[identity]['actual']\n",
    "        predicted = benchmark_results[identity]['predicted']\n",
    "        \n",
    "        unique_classes = np.sort(np.unique(np.concatenate((actual, predicted))))  # Ensure consistent class order\n",
    "        cm = confusion_matrix(actual, predicted, labels=unique_classes)\n",
    "        \n",
    "        # Calculate precision, recall, and F1 score for each class\n",
    "        precision = precision_score(actual, predicted, labels=unique_classes, average=None)\n",
    "        recall = recall_score(actual, predicted, labels=unique_classes, average=None)\n",
    "        f1 = f1_score(actual, predicted, labels=unique_classes, average=None)\n",
    "        \n",
    "        # Add each metric to the results table\n",
    "        for idx, class_label in enumerate(unique_classes):\n",
    "            results.append({\n",
    "                'Identity': identity,\n",
    "                'EPA Class': class_label,\n",
    "                'Precision': precision[idx],\n",
    "                'Recall': recall[idx],\n",
    "                'F1 Score': f1[idx]\n",
    "                })\n",
    "\n",
    "    # Convert results to a DataFrame for easy display\n",
    "    results_df = pd.DataFrame(results)\n",
    "\n",
    "    # Display the table\n",
    "    print(f'F1 Score of Kfolds = {fold_no +1} is: \\n{results_df}')\n",
    "\n",
    "    # Save to Excel if needed\n",
    "    #output_file = 'F1ScoresOnMatrices_Results.xlsx'\n",
    "    sheet_name = f'{identity}F1 scores '\n",
    "    results_df.to_excel(writer, sheet_name = sheet_name) #output_file, index=False)\n",
    "\n",
    "    sheet_name = f'Ers&Accs{fold_no+1}'\n",
    "    aggregated_df = aggregated.pivot_table(index='benchmark', aggfunc=np.mean)\n",
    "    aggregated_df.to_excel(writer, sheet_name = sheet_name)\n",
    " \n"
   ]
  },
  {
   "cell_type": "code",
   "execution_count": 16,
   "metadata": {},
   "outputs": [
    {
     "name": "stdout",
     "output_type": "stream",
     "text": [
      "4\n"
     ]
    }
   ],
   "source": [
    "print(fold_no)\n"
   ]
  },
  {
   "cell_type": "code",
   "execution_count": null,
   "metadata": {},
   "outputs": [],
   "source": []
  },
  {
   "cell_type": "code",
   "execution_count": null,
   "metadata": {},
   "outputs": [],
   "source": []
  },
  {
   "cell_type": "code",
   "execution_count": null,
   "metadata": {},
   "outputs": [],
   "source": []
  },
  {
   "cell_type": "code",
   "execution_count": null,
   "metadata": {},
   "outputs": [],
   "source": []
  },
  {
   "cell_type": "code",
   "execution_count": null,
   "metadata": {},
   "outputs": [],
   "source": []
  },
  {
   "cell_type": "code",
   "execution_count": null,
   "metadata": {},
   "outputs": [],
   "source": []
  },
  {
   "cell_type": "code",
   "execution_count": 116,
   "metadata": {},
   "outputs": [
    {
     "name": "stderr",
     "output_type": "stream",
     "text": [
      "c:\\Users\\3742\\anaconda3\\envs\\ai4pfas\\Lib\\site-packages\\openpyxl\\workbook\\child.py:99: UserWarning: Title is more than 31 characters. Some applications may not be able to read the file\n",
      "  warnings.warn(\"Title is more than 31 characters. Some applications may not be able to read the file\")\n"
     ]
    },
    {
     "data": {
      "image/png": "[encoded data removed]",
      "text/plain": [
       "<Figure size 1000x800 with 2 Axes>"
      ]
     },
     "metadata": {},
     "output_type": "display_data"
    },
    {
     "name": "stderr",
     "output_type": "stream",
     "text": [
      "c:\\Users\\3742\\anaconda3\\envs\\ai4pfas\\Lib\\site-packages\\openpyxl\\workbook\\child.py:99: UserWarning: Title is more than 31 characters. Some applications may not be able to read the file\n",
      "  warnings.warn(\"Title is more than 31 characters. Some applications may not be able to read the file\")\n"
     ]
    },
    {
     "data": {
      "image/png": "[encoded data removed]",
      "text/plain": [
       "<Figure size 1000x800 with 2 Axes>"
      ]
     },
     "metadata": {},
     "output_type": "display_data"
    },
    {
     "name": "stdout",
     "output_type": "stream",
     "text": [
      "F1 Score of Kfolds = 5 is: \n",
      "      Identity  EPA Class  Precision    Recall  F1 Score\n",
      "0  dnn_mordred          0   0.213144  0.104167  0.139942\n",
      "1  dnn_mordred          1   0.223917  0.301099  0.256835\n",
      "2  dnn_mordred          2   0.529245  0.625766  0.573472\n",
      "3  dnn_mordred          3   0.322906  0.123409  0.178571\n",
      "4     dnn_ecfp          0   0.834699  0.530382  0.648620\n",
      "5     dnn_ecfp          1   0.561404  0.433700  0.489357\n",
      "6     dnn_ecfp          2   0.662460  0.788882  0.720165\n",
      "7     dnn_ecfp          3   0.574807  0.515619  0.543606\n"
     ]
    },
    {
     "name": "stderr",
     "output_type": "stream",
     "text": [
      "C:\\Users\\3742\\AppData\\Local\\Temp\\ipykernel_11556\\1066928843.py:79: FutureWarning: The provided callable <function mean at 0x00000228BD7B6E80> is currently using DataFrameGroupBy.mean. In a future version of pandas, the provided callable will be used directly. To keep current behavior pass the string \"mean\" instead.\n",
      "  aggregated_df = aggregated.pivot_table(index='benchmark', aggfunc=np.mean)\n"
     ]
    }
   ],
   "source": [
    "#Results Using 5 Folds.\n",
    "import pandas as pd\n",
    "import numpy as np\n",
    "from sklearn.metrics import r2_score, mean_absolute_error, mean_squared_error, confusion_matrix\n",
    "import matplotlib.pyplot as plt\n",
    "import seaborn as sns\n",
    "from sklearn.metrics import confusion_matrix, precision_score, recall_score, f1_score\n",
    "\n",
    "\n",
    "output_file = 'ConsolRes.xlsx'\n",
    "with pd.ExcelWriter(output_file, engine='openpyxl') as writer:\n",
    "    for identity in compare_benchmarks:\n",
    "        actual = benchmark_results[identity]['actual']\n",
    "        predicted = benchmark_results[identity]['predicted']\n",
    "        \n",
    "        \n",
    "        unique_classes = np.sort(np.unique(np.concatenate((actual, predicted))))  # Ensure consistent class order\n",
    "        cm = confusion_matrix(actual, predicted, labels=unique_classes)\n",
    "\n",
    "        cm_df = pd.DataFrame(cm, index=unique_classes, columns=unique_classes)\n",
    "        # Add row totals\n",
    "        cm_df['Row Totals'] = cm_df.sum(axis=1)\n",
    "\n",
    "        # Add column totals\n",
    "        cm_df.loc['Column Totals'] = cm_df.sum(axis=0)\n",
    "\n",
    "        \n",
    "        # Write the confusion matrix with totals to a specified sheet in the Excel file\n",
    "        sheet_name = f'{identity}x_train-y-train_Confusion_Matrix'\n",
    "        cm_df.to_excel(writer, sheet_name=sheet_name)\n",
    "\n",
    "        plt.figure(figsize=(10, 8))\n",
    "        sns.heatmap(cm_df, annot=True, fmt='d', cmap='Blues', cbar=True, cbar_kws={'shrink': 0.8}, \n",
    "                    xticklabels=unique_classes, yticklabels=unique_classes)\n",
    "        #sns.heatmap(cm, annot=True, fmt='d', cmap='Blues', cbar=False, xticklabels=unique_classes, yticklabels=unique_classes)\n",
    "        plt.title(f'Confusion Matrix for {identity} using {fold_no + 1} folds')\n",
    "        plt.xlabel('Predicted EPA Class')\n",
    "        plt.ylabel('Actual EPA Class')\n",
    "        plt.show()\n",
    "\n",
    "\n",
    "# Placeholder for results\n",
    "    results = []\n",
    "\n",
    "    for identity in compare_benchmarks:\n",
    "        actual = benchmark_results[identity]['actual']\n",
    "        predicted = benchmark_results[identity]['predicted']\n",
    "        \n",
    "        unique_classes = np.sort(np.unique(np.concatenate((actual, predicted))))  # Ensure consistent class order\n",
    "        cm = confusion_matrix(actual, predicted, labels=unique_classes)\n",
    "        \n",
    "        # Calculate precision, recall, and F1 score for each class\n",
    "        precision = precision_score(actual, predicted, labels=unique_classes, average=None)\n",
    "        recall = recall_score(actual, predicted, labels=unique_classes, average=None)\n",
    "        f1 = f1_score(actual, predicted, labels=unique_classes, average=None)\n",
    "        \n",
    "        # Add each metric to the results table\n",
    "        for idx, class_label in enumerate(unique_classes):\n",
    "            results.append({\n",
    "                'Identity': identity,\n",
    "                'EPA Class': class_label,\n",
    "                'Precision': precision[idx],\n",
    "                'Recall': recall[idx],\n",
    "                'F1 Score': f1[idx]\n",
    "                })\n",
    "\n",
    "    # Convert results to a DataFrame for easy display\n",
    "    results_df = pd.DataFrame(results)\n",
    "\n",
    "    # Display the table\n",
    "    print(f'F1 Score of Kfolds = {fold_no +1} is: \\n{results_df}')\n",
    "\n",
    "    # Save to Excel if needed\n",
    "    #output_file = 'F1ScoresOnMatrices_Results.xlsx'\n",
    "    sheet_name = f'{identity}F1 scores '\n",
    "    results_df.to_excel(writer, sheet_name = sheet_name) #output_file, index=False)\n",
    "\n",
    "    sheet_name = f'Ers&Accs{fold_no+1}'\n",
    "    aggregated_df = aggregated.pivot_table(index='benchmark', aggfunc=np.mean)\n",
    "    aggregated_df.to_excel(writer, sheet_name = sheet_name)\n",
    " \n"
   ]
  },
  {
   "cell_type": "code",
   "execution_count": null,
   "metadata": {},
   "outputs": [],
   "source": [
    "### Examples of Visualisations \n",
    "import pandas as pd\n",
    "import numpy as np\n",
    "from sklearn.metrics import r2_score, mean_absolute_error, mean_squared_error, confusion_matrix\n",
    "import matplotlib.pyplot as plt\n",
    "import seaborn as sns\n",
    "\n",
    "compare_benchmarks = ['dnn_mordred','dnn_ecfp']\n",
    "aggregated = pd.DataFrame()\n",
    "#class_orders = [0, 1, 2, 3]\n",
    "\n",
    "\n",
    "for identity in compare_benchmarks:\n",
    "    benchmark = _benchmarks[identity]\n",
    "    folds = enumerate(kfold.get_folds(benchmark['encoding']))\n",
    "    \n",
    "    for fold_no, data in folds:\n",
    "        fn = identity + str(fold_no) + '_' + sampling_type\n",
    "        validation = pd.read_csv('../../data/benchmark-models/%s_predictions.csv' % fn)\n",
    "\n",
    "        # Forcing a Int value type\n",
    "        #validation['actual_epa'] = validation['actual_epa'].astype(int)\n",
    "        #validation['prediction_epa'] = validation['prediction_epa'].astype(int)\n",
    "        \n",
    "        # Ensure that class orders exist in the data to avoid the ValueError\n",
    "        #actual_classes = set(validation['actual_epa'].unique())\n",
    "        #predicted_classes = set(validation['prediction_epa'].unique())\n",
    "        #relevant_classes = [cls for cls in class_orders if cls in actual_classes or cls in predicted_classes]\n",
    "        \n",
    "        # Create confusion matrix only for relevant classes present in the data\n",
    "        #unique_classes = np.unique(validation[['actual_epa', 'prediction_epa']])\n",
    "        cm = confusion_matrix(validation['actual_epa'], validation['prediction_epa'], labels=unique_classes)\n",
    "        #cm = confusion_matrix((validation['actual_epa']), (validation['prediction_epa']), labels=relevant_classes)\n",
    "\n",
    "        #plt.figure(figsize=(8, 6))\n",
    "        #sns.heatmap(cm, annot=True, fmt='d', cmap='Blues', cbar=False)\n",
    "        plt.title(f'Confusion Matrix for {identity}, Fold {fold_no}')\n",
    "        plt.xlabel('Predicted EPA Class')\n",
    "        plt.ylabel('Actual EPA Class')\n",
    "        plt.show()\n",
    "\n",
    "print(validation['actual_epa'])\n",
    "\n",
    "''' \n",
    "import pandas as pd\n",
    "import numpy as np\n",
    "from sklearn.metrics import r2_score, mean_absolute_error, mean_squared_error, confusion_matrix\n",
    "import matplotlib.pyplot as plt\n",
    "import seaborn as sns\n",
    "\n",
    "compare_benchmarks = ['dnn_mordred', 'dnn_ecfp']\n",
    "aggregated = pd.DataFrame()\n",
    "class_orders = ['Class 1', 'Class 2', 'Class 3', 'Class 4']\n",
    "\n",
    "for identity in compare_benchmarks:\n",
    "    benchmark = _benchmarks[identity]\n",
    "    folds = enumerate(kfold.get_folds(benchmark['encoding']))\n",
    "    \n",
    "    for fold_no, data in folds:\n",
    "        fn = identity + str(fold_no) + '_' + sampling_type\n",
    "        validation = pd.read_csv('../../data/benchmark-models/%s_predictions.csv' % fn)\n",
    "        \n",
    "        # Ensure that class orders exist in the data to avoid the ValueError\n",
    "        actual_classes = set(validation['actual_epa'].unique())\n",
    "        predicted_classes = set(validation['prediction_epa'].unique())\n",
    "        relevant_classes = [cls for cls in class_orders if cls in actual_classes or cls in predicted_classes]\n",
    "        \n",
    "        # Create confusion matrix only for relevant classes present in the data\n",
    "        cm = confusion_matrix(validation['actual_epa'], validation['prediction_epa'], labels=relevant_classes)\n",
    "        \n",
    "        # Plot the confusion matrix with consistent labels\n",
    "        plt.figure(figsize=(8, 6))\n",
    "        sns.heatmap(cm, annot=True, fmt='d', cmap='Blues', cbar=False,\n",
    "                    xticklabels=relevant_classes, yticklabels=relevant_classes)\n",
    "   '''\n"
   ]
  }
 ],
 "metadata": {
  "kernelspec": {
   "display_name": "ai4pfas",
   "language": "python",
   "name": "python3"
  },
  "language_info": {
   "codemirror_mode": {
    "name": "ipython",
    "version": 3
   },
   "file_extension": ".py",
   "mimetype": "text/x-python",
   "name": "python",
   "nbconvert_exporter": "python",
   "pygments_lexer": "ipython3",
   "version": "3.11.9"
  }
 },
 "nbformat": 4,
 "nbformat_minor": 4
}
