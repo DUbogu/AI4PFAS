{
 "cells": [
  {
   "cell_type": "code",
   "execution_count": 122,
   "metadata": {
    "scrolled": true
   },
   "outputs": [
    {
     "name": "stdout",
     "output_type": "stream",
     "text": [
      "The autoreload extension is already loaded. To reload it, use:\n",
      "  %reload_ext autoreload\n"
     ]
    }
   ],
   "source": [
    "%load_ext autoreload\n",
    "%autoreload 2\n",
    "\n",
    "import sys\n",
    "sys.path.append('../..')"
   ]
  },
  {
   "cell_type": "markdown",
   "metadata": {},
   "source": [
    "# Imports"
   ]
  },
  {
   "cell_type": "code",
   "execution_count": 123,
   "metadata": {},
   "outputs": [],
   "source": [
    "import pandas as pd\n",
    "import numpy as np\n",
    "\n",
    "from src import models\n",
    "from src import experimental_setup\n",
    "experimental_setup.path_prefix = '/../'"
   ]
  },
  {
   "cell_type": "markdown",
   "metadata": {},
   "source": [
    "# Experimental setup"
   ]
  },
  {
   "cell_type": "code",
   "execution_count": 137,
   "metadata": {},
   "outputs": [],
   "source": [
    "_benchmarks = {\n",
    "    'dnn_mordred': {'model': models.DNN_Mordred, 'encoding': 'mordred'},\n",
    "    'dnn_ecfp': {'model': models.DNN_ECFP, 'encoding': 'ecfp_2048'},\n",
    "    'rf_mordred': {'model': models.RF, 'encoding': 'mordred'},\n",
    "    'rf_ecfp': {'model': models.RF, 'encoding': 'ecfp_4096'},\n",
    "    'rf_nmf_ecfp': {'model': models.RF_NMF_ECFP, 'encoding': 'ecfp_4096'},\n",
    "    'gp': {'model': models.GP, 'encoding': 'gp'},\n",
    "    'gcn': {'model': models.GCN, 'encoding': 'smiles'}\n",
    "}\n",
    "\n",
    "# benchmarks to train/validate, check _benchmark_dict for options\n",
    "run_benchmarks = ['dnn_mordred','dnn_ecfp']\n",
    "\n",
    "# `random` or `stratified`\n",
    "sampling_type = 'random'\n",
    "\n",
    "kfold = experimental_setup.CrossValidator(\n",
    "    splits = 3, # dont change without re-running data preprocessing\n",
    "    sampling_type = sampling_type,\n",
    ")\n",
    "\n",
    "converter = experimental_setup.LD50UnitConverter()"
   ]
  },
  {
   "cell_type": "markdown",
   "metadata": {},
   "source": [
    "# Train/predict using benchmark models"
   ]
  },
  {
   "cell_type": "code",
   "execution_count": 138,
   "metadata": {
    "scrolled": true
   },
   "outputs": [
    {
     "name": "stdout",
     "output_type": "stream",
     "text": [
      "Epoch 1/10\n"
     ]
    },
    {
     "name": "stderr",
     "output_type": "stream",
     "text": [
      "c:\\Users\\3742\\anaconda3\\envs\\ai4pfas\\Lib\\site-packages\\keras\\src\\layers\\layer.py:391: UserWarning: `build()` was called on layer 'dnn__mordred_56', however the layer does not have a `build()` method implemented and it looks like it has unbuilt state. This will cause the layer to be marked as built, despite not being actually built, which may cause failures down the line. Make sure to implement a proper `build()` method.\n",
      "  warnings.warn(\n"
     ]
    },
    {
     "name": "stdout",
     "output_type": "stream",
     "text": [
      "\u001b[1m42/42\u001b[0m \u001b[32m━━━━━━━━━━━━━━━━━━━━\u001b[0m\u001b[37m\u001b[0m \u001b[1m3s\u001b[0m 7ms/step - loss: 652848.5000 - mae: 216.5025 - mse: 652848.5000\n",
      "Epoch 2/10\n",
      "\u001b[1m42/42\u001b[0m \u001b[32m━━━━━━━━━━━━━━━━━━━━\u001b[0m\u001b[37m\u001b[0m \u001b[1m0s\u001b[0m 6ms/step - loss: 1.8871 - mae: 0.9941 - mse: 1.8871\n",
      "Epoch 3/10\n",
      "\u001b[1m42/42\u001b[0m \u001b[32m━━━━━━━━━━━━━━━━━━━━\u001b[0m\u001b[37m\u001b[0m \u001b[1m0s\u001b[0m 6ms/step - loss: 1.0590 - mae: 0.7750 - mse: 1.0590\n",
      "Epoch 4/10\n",
      "\u001b[1m42/42\u001b[0m \u001b[32m━━━━━━━━━━━━━━━━━━━━\u001b[0m\u001b[37m\u001b[0m \u001b[1m0s\u001b[0m 6ms/step - loss: 1.0039 - mae: 0.7607 - mse: 1.0039\n",
      "Epoch 5/10\n",
      "\u001b[1m42/42\u001b[0m \u001b[32m━━━━━━━━━━━━━━━━━━━━\u001b[0m\u001b[37m\u001b[0m \u001b[1m0s\u001b[0m 7ms/step - loss: 1.0037 - mae: 0.7617 - mse: 1.0037\n",
      "Epoch 6/10\n",
      "\u001b[1m42/42\u001b[0m \u001b[32m━━━━━━━━━━━━━━━━━━━━\u001b[0m\u001b[37m\u001b[0m \u001b[1m0s\u001b[0m 7ms/step - loss: 0.9699 - mae: 0.7533 - mse: 0.9699\n",
      "Epoch 7/10\n",
      "\u001b[1m42/42\u001b[0m \u001b[32m━━━━━━━━━━━━━━━━━━━━\u001b[0m\u001b[37m\u001b[0m \u001b[1m0s\u001b[0m 10ms/step - loss: 0.9512 - mae: 0.7418 - mse: 0.9512\n",
      "Epoch 8/10\n",
      "\u001b[1m42/42\u001b[0m \u001b[32m━━━━━━━━━━━━━━━━━━━━\u001b[0m\u001b[37m\u001b[0m \u001b[1m0s\u001b[0m 7ms/step - loss: 0.9786 - mae: 0.7444 - mse: 0.9786\n",
      "Epoch 9/10\n",
      "\u001b[1m42/42\u001b[0m \u001b[32m━━━━━━━━━━━━━━━━━━━━\u001b[0m\u001b[37m\u001b[0m \u001b[1m0s\u001b[0m 7ms/step - loss: 1.0601 - mae: 0.7663 - mse: 1.0601\n",
      "Epoch 10/10\n",
      "\u001b[1m42/42\u001b[0m \u001b[32m━━━━━━━━━━━━━━━━━━━━\u001b[0m\u001b[37m\u001b[0m \u001b[1m0s\u001b[0m 6ms/step - loss: 1.1198 - mae: 0.7817 - mse: 1.1198\n",
      "\u001b[1m84/84\u001b[0m \u001b[32m━━━━━━━━━━━━━━━━━━━━\u001b[0m\u001b[37m\u001b[0m \u001b[1m0s\u001b[0m 2ms/step\n",
      "Epoch 1/10\n"
     ]
    },
    {
     "name": "stderr",
     "output_type": "stream",
     "text": [
      "c:\\Users\\3742\\anaconda3\\envs\\ai4pfas\\Lib\\site-packages\\keras\\src\\layers\\layer.py:391: UserWarning: `build()` was called on layer 'dnn__mordred_57', however the layer does not have a `build()` method implemented and it looks like it has unbuilt state. This will cause the layer to be marked as built, despite not being actually built, which may cause failures down the line. Make sure to implement a proper `build()` method.\n",
      "  warnings.warn(\n"
     ]
    },
    {
     "name": "stdout",
     "output_type": "stream",
     "text": [
      "\u001b[1m42/42\u001b[0m \u001b[32m━━━━━━━━━━━━━━━━━━━━\u001b[0m\u001b[37m\u001b[0m \u001b[1m3s\u001b[0m 8ms/step - loss: 679896.5625 - mae: 211.5028 - mse: 679896.5625\n",
      "Epoch 2/10\n",
      "\u001b[1m42/42\u001b[0m \u001b[32m━━━━━━━━━━━━━━━━━━━━\u001b[0m\u001b[37m\u001b[0m \u001b[1m0s\u001b[0m 7ms/step - loss: 4.0727 - mae: 1.3909 - mse: 4.0727\n",
      "Epoch 3/10\n",
      "\u001b[1m42/42\u001b[0m \u001b[32m━━━━━━━━━━━━━━━━━━━━\u001b[0m\u001b[37m\u001b[0m \u001b[1m0s\u001b[0m 7ms/step - loss: 1.2083 - mae: 0.8692 - mse: 1.2083\n",
      "Epoch 4/10\n",
      "\u001b[1m42/42\u001b[0m \u001b[32m━━━━━━━━━━━━━━━━━━━━\u001b[0m\u001b[37m\u001b[0m \u001b[1m0s\u001b[0m 7ms/step - loss: 1.1145 - mae: 0.8318 - mse: 1.1145\n",
      "Epoch 5/10\n",
      "\u001b[1m42/42\u001b[0m \u001b[32m━━━━━━━━━━━━━━━━━━━━\u001b[0m\u001b[37m\u001b[0m \u001b[1m0s\u001b[0m 6ms/step - loss: 1.0447 - mae: 0.8027 - mse: 1.0447\n",
      "Epoch 6/10\n",
      "\u001b[1m42/42\u001b[0m \u001b[32m━━━━━━━━━━━━━━━━━━━━\u001b[0m\u001b[37m\u001b[0m \u001b[1m0s\u001b[0m 6ms/step - loss: 1.0457 - mae: 0.8021 - mse: 1.0457\n",
      "Epoch 7/10\n",
      "\u001b[1m42/42\u001b[0m \u001b[32m━━━━━━━━━━━━━━━━━━━━\u001b[0m\u001b[37m\u001b[0m \u001b[1m0s\u001b[0m 6ms/step - loss: 1.0277 - mae: 0.7947 - mse: 1.0277\n",
      "Epoch 8/10\n",
      "\u001b[1m42/42\u001b[0m \u001b[32m━━━━━━━━━━━━━━━━━━━━\u001b[0m\u001b[37m\u001b[0m \u001b[1m0s\u001b[0m 6ms/step - loss: 0.9869 - mae: 0.7776 - mse: 0.9869\n",
      "Epoch 9/10\n",
      "\u001b[1m42/42\u001b[0m \u001b[32m━━━━━━━━━━━━━━━━━━━━\u001b[0m\u001b[37m\u001b[0m \u001b[1m0s\u001b[0m 6ms/step - loss: 0.9428 - mae: 0.7590 - mse: 0.9428\n",
      "Epoch 10/10\n",
      "\u001b[1m42/42\u001b[0m \u001b[32m━━━━━━━━━━━━━━━━━━━━\u001b[0m\u001b[37m\u001b[0m \u001b[1m0s\u001b[0m 7ms/step - loss: 0.9079 - mae: 0.7402 - mse: 0.9079\n",
      "\u001b[1m84/84\u001b[0m \u001b[32m━━━━━━━━━━━━━━━━━━━━\u001b[0m\u001b[37m\u001b[0m \u001b[1m0s\u001b[0m 3ms/step\n",
      "Epoch 1/10\n"
     ]
    },
    {
     "name": "stderr",
     "output_type": "stream",
     "text": [
      "c:\\Users\\3742\\anaconda3\\envs\\ai4pfas\\Lib\\site-packages\\keras\\src\\layers\\layer.py:391: UserWarning: `build()` was called on layer 'dnn__mordred_58', however the layer does not have a `build()` method implemented and it looks like it has unbuilt state. This will cause the layer to be marked as built, despite not being actually built, which may cause failures down the line. Make sure to implement a proper `build()` method.\n",
      "  warnings.warn(\n"
     ]
    },
    {
     "name": "stdout",
     "output_type": "stream",
     "text": [
      "\u001b[1m42/42\u001b[0m \u001b[32m━━━━━━━━━━━━━━━━━━━━\u001b[0m\u001b[37m\u001b[0m \u001b[1m4s\u001b[0m 7ms/step - loss: 1345739.1250 - mae: 262.7687 - mse: 1345739.1250\n",
      "Epoch 2/10\n",
      "\u001b[1m42/42\u001b[0m \u001b[32m━━━━━━━━━━━━━━━━━━━━\u001b[0m\u001b[37m\u001b[0m \u001b[1m0s\u001b[0m 7ms/step - loss: 4.9806 - mae: 1.5163 - mse: 4.9806\n",
      "Epoch 3/10\n",
      "\u001b[1m42/42\u001b[0m \u001b[32m━━━━━━━━━━━━━━━━━━━━\u001b[0m\u001b[37m\u001b[0m \u001b[1m0s\u001b[0m 7ms/step - loss: 1.2030 - mae: 0.8515 - mse: 1.2030\n",
      "Epoch 4/10\n",
      "\u001b[1m42/42\u001b[0m \u001b[32m━━━━━━━━━━━━━━━━━━━━\u001b[0m\u001b[37m\u001b[0m \u001b[1m0s\u001b[0m 6ms/step - loss: 1.1224 - mae: 0.8251 - mse: 1.1224\n",
      "Epoch 5/10\n",
      "\u001b[1m42/42\u001b[0m \u001b[32m━━━━━━━━━━━━━━━━━━━━\u001b[0m\u001b[37m\u001b[0m \u001b[1m0s\u001b[0m 6ms/step - loss: 1.0395 - mae: 0.7915 - mse: 1.0395\n",
      "Epoch 6/10\n",
      "\u001b[1m42/42\u001b[0m \u001b[32m━━━━━━━━━━━━━━━━━━━━\u001b[0m\u001b[37m\u001b[0m \u001b[1m0s\u001b[0m 6ms/step - loss: 1.0102 - mae: 0.7795 - mse: 1.0102\n",
      "Epoch 7/10\n",
      "\u001b[1m42/42\u001b[0m \u001b[32m━━━━━━━━━━━━━━━━━━━━\u001b[0m\u001b[37m\u001b[0m \u001b[1m0s\u001b[0m 6ms/step - loss: 0.9867 - mae: 0.7681 - mse: 0.9867\n",
      "Epoch 8/10\n",
      "\u001b[1m42/42\u001b[0m \u001b[32m━━━━━━━━━━━━━━━━━━━━\u001b[0m\u001b[37m\u001b[0m \u001b[1m0s\u001b[0m 7ms/step - loss: 0.9568 - mae: 0.7536 - mse: 0.9568\n",
      "Epoch 9/10\n",
      "\u001b[1m42/42\u001b[0m \u001b[32m━━━━━━━━━━━━━━━━━━━━\u001b[0m\u001b[37m\u001b[0m \u001b[1m0s\u001b[0m 6ms/step - loss: 0.9693 - mae: 0.7573 - mse: 0.9693\n",
      "Epoch 10/10\n",
      "\u001b[1m42/42\u001b[0m \u001b[32m━━━━━━━━━━━━━━━━━━━━\u001b[0m\u001b[37m\u001b[0m \u001b[1m0s\u001b[0m 6ms/step - loss: 1.0317 - mae: 0.7782 - mse: 1.0317\n",
      "\u001b[1m84/84\u001b[0m \u001b[32m━━━━━━━━━━━━━━━━━━━━\u001b[0m\u001b[37m\u001b[0m \u001b[1m0s\u001b[0m 3ms/step\n",
      "Epoch 1/10\n"
     ]
    },
    {
     "name": "stderr",
     "output_type": "stream",
     "text": [
      "c:\\Users\\3742\\anaconda3\\envs\\ai4pfas\\Lib\\site-packages\\keras\\src\\layers\\layer.py:391: UserWarning: `build()` was called on layer 'dnn_ecfp_55', however the layer does not have a `build()` method implemented and it looks like it has unbuilt state. This will cause the layer to be marked as built, despite not being actually built, which may cause failures down the line. Make sure to implement a proper `build()` method.\n",
      "  warnings.warn(\n"
     ]
    },
    {
     "name": "stdout",
     "output_type": "stream",
     "text": [
      "\u001b[1m21/21\u001b[0m \u001b[32m━━━━━━━━━━━━━━━━━━━━\u001b[0m\u001b[37m\u001b[0m \u001b[1m3s\u001b[0m 87ms/step - loss: 0.7286 - mae: 0.6378 - mse: 0.7286\n",
      "Epoch 2/10\n",
      "\u001b[1m21/21\u001b[0m \u001b[32m━━━━━━━━━━━━━━━━━━━━\u001b[0m\u001b[37m\u001b[0m \u001b[1m2s\u001b[0m 89ms/step - loss: 0.3690 - mae: 0.4473 - mse: 0.3690\n",
      "Epoch 3/10\n",
      "\u001b[1m21/21\u001b[0m \u001b[32m━━━━━━━━━━━━━━━━━━━━\u001b[0m\u001b[37m\u001b[0m \u001b[1m2s\u001b[0m 98ms/step - loss: 0.2710 - mae: 0.3807 - mse: 0.2710\n",
      "Epoch 4/10\n",
      "\u001b[1m21/21\u001b[0m \u001b[32m━━━━━━━━━━━━━━━━━━━━\u001b[0m\u001b[37m\u001b[0m \u001b[1m2s\u001b[0m 91ms/step - loss: 0.1978 - mae: 0.3192 - mse: 0.1978\n",
      "Epoch 5/10\n",
      "\u001b[1m21/21\u001b[0m \u001b[32m━━━━━━━━━━━━━━━━━━━━\u001b[0m\u001b[37m\u001b[0m \u001b[1m2s\u001b[0m 92ms/step - loss: 0.1497 - mae: 0.2748 - mse: 0.1497\n",
      "Epoch 6/10\n",
      "\u001b[1m21/21\u001b[0m \u001b[32m━━━━━━━━━━━━━━━━━━━━\u001b[0m\u001b[37m\u001b[0m \u001b[1m2s\u001b[0m 88ms/step - loss: 0.1414 - mae: 0.2806 - mse: 0.1414\n",
      "Epoch 7/10\n",
      "\u001b[1m21/21\u001b[0m \u001b[32m━━━━━━━━━━━━━━━━━━━━\u001b[0m\u001b[37m\u001b[0m \u001b[1m2s\u001b[0m 88ms/step - loss: 0.1145 - mae: 0.2487 - mse: 0.1145\n",
      "Epoch 8/10\n",
      "\u001b[1m21/21\u001b[0m \u001b[32m━━━━━━━━━━━━━━━━━━━━\u001b[0m\u001b[37m\u001b[0m \u001b[1m2s\u001b[0m 94ms/step - loss: 0.1005 - mae: 0.2346 - mse: 0.1005\n",
      "Epoch 9/10\n",
      "\u001b[1m21/21\u001b[0m \u001b[32m━━━━━━━━━━━━━━━━━━━━\u001b[0m\u001b[37m\u001b[0m \u001b[1m2s\u001b[0m 97ms/step - loss: 0.1062 - mae: 0.2472 - mse: 0.1062\n",
      "Epoch 10/10\n",
      "\u001b[1m21/21\u001b[0m \u001b[32m━━━━━━━━━━━━━━━━━━━━\u001b[0m\u001b[37m\u001b[0m \u001b[1m2s\u001b[0m 91ms/step - loss: 0.1387 - mae: 0.2953 - mse: 0.1387\n",
      "\u001b[1m84/84\u001b[0m \u001b[32m━━━━━━━━━━━━━━━━━━━━\u001b[0m\u001b[37m\u001b[0m \u001b[1m0s\u001b[0m 5ms/step\n",
      "Epoch 1/10\n"
     ]
    },
    {
     "name": "stderr",
     "output_type": "stream",
     "text": [
      "c:\\Users\\3742\\anaconda3\\envs\\ai4pfas\\Lib\\site-packages\\keras\\src\\layers\\layer.py:391: UserWarning: `build()` was called on layer 'dnn_ecfp_56', however the layer does not have a `build()` method implemented and it looks like it has unbuilt state. This will cause the layer to be marked as built, despite not being actually built, which may cause failures down the line. Make sure to implement a proper `build()` method.\n",
      "  warnings.warn(\n"
     ]
    },
    {
     "name": "stdout",
     "output_type": "stream",
     "text": [
      "\u001b[1m21/21\u001b[0m \u001b[32m━━━━━━━━━━━━━━━━━━━━\u001b[0m\u001b[37m\u001b[0m \u001b[1m3s\u001b[0m 95ms/step - loss: 0.7660 - mae: 0.6647 - mse: 0.7660\n",
      "Epoch 2/10\n",
      "\u001b[1m21/21\u001b[0m \u001b[32m━━━━━━━━━━━━━━━━━━━━\u001b[0m\u001b[37m\u001b[0m \u001b[1m3s\u001b[0m 101ms/step - loss: 0.3720 - mae: 0.4544 - mse: 0.3720\n",
      "Epoch 3/10\n",
      "\u001b[1m21/21\u001b[0m \u001b[32m━━━━━━━━━━━━━━━━━━━━\u001b[0m\u001b[37m\u001b[0m \u001b[1m2s\u001b[0m 93ms/step - loss: 0.2739 - mae: 0.3836 - mse: 0.2739\n",
      "Epoch 4/10\n",
      "\u001b[1m21/21\u001b[0m \u001b[32m━━━━━━━━━━━━━━━━━━━━\u001b[0m\u001b[37m\u001b[0m \u001b[1m2s\u001b[0m 92ms/step - loss: 0.1999 - mae: 0.3217 - mse: 0.1999\n",
      "Epoch 5/10\n",
      "\u001b[1m21/21\u001b[0m \u001b[32m━━━━━━━━━━━━━━━━━━━━\u001b[0m\u001b[37m\u001b[0m \u001b[1m2s\u001b[0m 98ms/step - loss: 0.1459 - mae: 0.2683 - mse: 0.1459\n",
      "Epoch 6/10\n",
      "\u001b[1m21/21\u001b[0m \u001b[32m━━━━━━━━━━━━━━━━━━━━\u001b[0m\u001b[37m\u001b[0m \u001b[1m2s\u001b[0m 97ms/step - loss: 0.1078 - mae: 0.2244 - mse: 0.1078\n",
      "Epoch 7/10\n",
      "\u001b[1m21/21\u001b[0m \u001b[32m━━━━━━━━━━━━━━━━━━━━\u001b[0m\u001b[37m\u001b[0m \u001b[1m2s\u001b[0m 94ms/step - loss: 0.0829 - mae: 0.1934 - mse: 0.0829\n",
      "Epoch 8/10\n",
      "\u001b[1m21/21\u001b[0m \u001b[32m━━━━━━━━━━━━━━━━━━━━\u001b[0m\u001b[37m\u001b[0m \u001b[1m2s\u001b[0m 96ms/step - loss: 0.0718 - mae: 0.1831 - mse: 0.0718\n",
      "Epoch 9/10\n",
      "\u001b[1m21/21\u001b[0m \u001b[32m━━━━━━━━━━━━━━━━━━━━\u001b[0m\u001b[37m\u001b[0m \u001b[1m2s\u001b[0m 92ms/step - loss: 0.0804 - mae: 0.2020 - mse: 0.0804\n",
      "Epoch 10/10\n",
      "\u001b[1m21/21\u001b[0m \u001b[32m━━━━━━━━━━━━━━━━━━━━\u001b[0m\u001b[37m\u001b[0m \u001b[1m2s\u001b[0m 91ms/step - loss: 0.1206 - mae: 0.2709 - mse: 0.1206\n",
      "\u001b[1m84/84\u001b[0m \u001b[32m━━━━━━━━━━━━━━━━━━━━\u001b[0m\u001b[37m\u001b[0m \u001b[1m1s\u001b[0m 6ms/step\n",
      "Epoch 1/10\n"
     ]
    },
    {
     "name": "stderr",
     "output_type": "stream",
     "text": [
      "c:\\Users\\3742\\anaconda3\\envs\\ai4pfas\\Lib\\site-packages\\keras\\src\\layers\\layer.py:391: UserWarning: `build()` was called on layer 'dnn_ecfp_57', however the layer does not have a `build()` method implemented and it looks like it has unbuilt state. This will cause the layer to be marked as built, despite not being actually built, which may cause failures down the line. Make sure to implement a proper `build()` method.\n",
      "  warnings.warn(\n"
     ]
    },
    {
     "name": "stdout",
     "output_type": "stream",
     "text": [
      "\u001b[1m21/21\u001b[0m \u001b[32m━━━━━━━━━━━━━━━━━━━━\u001b[0m\u001b[37m\u001b[0m \u001b[1m4s\u001b[0m 81ms/step - loss: 0.7518 - mae: 0.6557 - mse: 0.7518\n",
      "Epoch 2/10\n",
      "\u001b[1m21/21\u001b[0m \u001b[32m━━━━━━━━━━━━━━━━━━━━\u001b[0m\u001b[37m\u001b[0m \u001b[1m2s\u001b[0m 90ms/step - loss: 0.3839 - mae: 0.4600 - mse: 0.3839\n",
      "Epoch 3/10\n",
      "\u001b[1m21/21\u001b[0m \u001b[32m━━━━━━━━━━━━━━━━━━━━\u001b[0m\u001b[37m\u001b[0m \u001b[1m2s\u001b[0m 86ms/step - loss: 0.3008 - mae: 0.4075 - mse: 0.3008\n",
      "Epoch 4/10\n",
      "\u001b[1m21/21\u001b[0m \u001b[32m━━━━━━━━━━━━━━━━━━━━\u001b[0m\u001b[37m\u001b[0m \u001b[1m2s\u001b[0m 92ms/step - loss: 0.2133 - mae: 0.3346 - mse: 0.2133\n",
      "Epoch 5/10\n",
      "\u001b[1m21/21\u001b[0m \u001b[32m━━━━━━━━━━━━━━━━━━━━\u001b[0m\u001b[37m\u001b[0m \u001b[1m2s\u001b[0m 86ms/step - loss: 0.1584 - mae: 0.2821 - mse: 0.1584\n",
      "Epoch 6/10\n",
      "\u001b[1m21/21\u001b[0m \u001b[32m━━━━━━━━━━━━━━━━━━━━\u001b[0m\u001b[37m\u001b[0m \u001b[1m2s\u001b[0m 83ms/step - loss: 0.1186 - mae: 0.2393 - mse: 0.1186\n",
      "Epoch 7/10\n",
      "\u001b[1m21/21\u001b[0m \u001b[32m━━━━━━━━━━━━━━━━━━━━\u001b[0m\u001b[37m\u001b[0m \u001b[1m2s\u001b[0m 86ms/step - loss: 0.0937 - mae: 0.2094 - mse: 0.0937\n",
      "Epoch 8/10\n",
      "\u001b[1m21/21\u001b[0m \u001b[32m━━━━━━━━━━━━━━━━━━━━\u001b[0m\u001b[37m\u001b[0m \u001b[1m2s\u001b[0m 97ms/step - loss: 0.0838 - mae: 0.2027 - mse: 0.0838\n",
      "Epoch 9/10\n",
      "\u001b[1m21/21\u001b[0m \u001b[32m━━━━━━━━━━━━━━━━━━━━\u001b[0m\u001b[37m\u001b[0m \u001b[1m2s\u001b[0m 92ms/step - loss: 0.0965 - mae: 0.2316 - mse: 0.0965\n",
      "Epoch 10/10\n",
      "\u001b[1m21/21\u001b[0m \u001b[32m━━━━━━━━━━━━━━━━━━━━\u001b[0m\u001b[37m\u001b[0m \u001b[1m2s\u001b[0m 91ms/step - loss: 0.2153 - mae: 0.3724 - mse: 0.2153\n",
      "\u001b[1m84/84\u001b[0m \u001b[32m━━━━━━━━━━━━━━━━━━━━\u001b[0m\u001b[37m\u001b[0m \u001b[1m1s\u001b[0m 6ms/step\n"
     ]
    }
   ],
   "source": [
    "loss_histories = {}\n",
    "for identity in run_benchmarks:\n",
    "    benchmark = _benchmarks[identity]\n",
    "    \n",
    "    folds = enumerate(kfold.get_folds(benchmark['encoding']))\n",
    "    \n",
    "    for fold_no, (train, test) in folds:           \n",
    "        x_train, y_train, smiles_train = train\n",
    "        x_test, y_test, smiles_test = test\n",
    "        \n",
    "        y_train = experimental_setup.scaler.fit_transform(y_train)\n",
    "        \n",
    "        model = _benchmarks[identity]['model']()\n",
    "        \n",
    "        # <Gaussian process has special step for selecting parameters based on\n",
    "        # RF benchmark models for ECFP and Mordred\n",
    "        if identity == 'gp':\n",
    "            fn = 'rf_mordred' + str(fold_no) + '_' + sampling_type\n",
    "            mordred_rf = _benchmarks['rf_mordred']['model']()\n",
    "            mordred_rf.load_weights('../../data/benchmark-models/chkpts/%s.chkpt' % fn)\n",
    "            \n",
    "            fn = 'rf_ecfp' + str(fold_no) + '_' + sampling_type\n",
    "            ecfp_rf = _benchmarks['rf_ecfp']['model']()\n",
    "            ecfp_rf.load_weights('../../data/benchmark-models/chkpts/%s.chkpt' % fn)\n",
    "            \n",
    "            model.rf_feature_selectors = (mordred_rf, ecfp_rf)\n",
    "            model.rf_feature_reduce_to = (10, 200)\n",
    "        # End of special GP step>\n",
    "        \n",
    "        #Mordred and ECPF Loss: \n",
    "        # Mordred and ECFP Loss collection\n",
    "        if identity == 'dnn_mordred':\n",
    "            DNN_mordredLosses = model.fit(x_train, y_train)\n",
    "            loss_histories.setdefault('dnn_mordred', []).append(DNN_mordredLosses)\n",
    "        \n",
    "        if identity == 'dnn_ecfp':     \n",
    "            DNN_ecfpLosses = model.fit(x_train, y_train)\n",
    "            loss_histories.setdefault('dnn_ecfp', []).append(DNN_ecfpLosses)\n",
    "\n",
    "\n",
    "        \n",
    "        #save model\n",
    "        fn = identity + str(fold_no) + '_' + sampling_type\n",
    "        model.save_weights('../../data/benchmark-models/chkpts/%s.chkpt' % fn)\n",
    "        \n",
    "        y_hat = experimental_setup.scaler.inverse_transform(model.predict(x_test)) \n",
    "        \n",
    "        results = pd.DataFrame({\n",
    "            'smiles': smiles_test.flatten(),\n",
    "            'prediction_neglogld50': y_hat.flatten(),\n",
    "            'prediction_mgkg': converter.convert_to_mgkg(y_hat, smiles_test),\n",
    "            'prediction_epa': converter.convert_to_epa(y_hat, smiles_test),\n",
    "            'actual_neglogld50': y_test.flatten(),\n",
    "            'actual_mgkg': converter.convert_to_mgkg(y_test, smiles_test),\n",
    "            'actual_epa': converter.convert_to_epa(y_test, smiles_test),\n",
    "        })\n",
    "        \n",
    "        results.to_csv('../../data/benchmark-models/%s_predictions.csv' % fn)"
   ]
  },
  {
   "cell_type": "code",
   "execution_count": 136,
   "metadata": {},
   "outputs": [
    {
     "ename": "TypeError",
     "evalue": "'NoneType' object is not subscriptable",
     "output_type": "error",
     "traceback": [
      "\u001b[1;31m---------------------------------------------------------------------------\u001b[0m",
      "\u001b[1;31mTypeError\u001b[0m                                 Traceback (most recent call last)",
      "Cell \u001b[1;32mIn[136], line 9\u001b[0m\n\u001b[0;32m      7\u001b[0m \u001b[38;5;28;01mif\u001b[39;00m \u001b[38;5;124m'\u001b[39m\u001b[38;5;124mdnn_mordred\u001b[39m\u001b[38;5;124m'\u001b[39m \u001b[38;5;129;01min\u001b[39;00m loss_histories:\n\u001b[0;32m      8\u001b[0m     \u001b[38;5;28;01mfor\u001b[39;00m fold_no, history_df \u001b[38;5;129;01min\u001b[39;00m \u001b[38;5;28menumerate\u001b[39m(loss_histories[\u001b[38;5;124m'\u001b[39m\u001b[38;5;124mdnn_mordred\u001b[39m\u001b[38;5;124m'\u001b[39m]):\n\u001b[1;32m----> 9\u001b[0m         plt\u001b[38;5;241m.\u001b[39mplot(\u001b[43mhistory_df\u001b[49m\u001b[43m[\u001b[49m\u001b[38;5;124;43m'\u001b[39;49m\u001b[38;5;124;43mepoch\u001b[39;49m\u001b[38;5;124;43m'\u001b[39;49m\u001b[43m]\u001b[49m, history_df[\u001b[38;5;124m'\u001b[39m\u001b[38;5;124mloss\u001b[39m\u001b[38;5;124m'\u001b[39m], label\u001b[38;5;241m=\u001b[39m\u001b[38;5;124mf\u001b[39m\u001b[38;5;124m'\u001b[39m\u001b[38;5;124mDNN_Mordred Fold \u001b[39m\u001b[38;5;132;01m{\u001b[39;00mfold_no\u001b[38;5;241m+\u001b[39m\u001b[38;5;241m1\u001b[39m\u001b[38;5;132;01m}\u001b[39;00m\u001b[38;5;124m Loss\u001b[39m\u001b[38;5;124m'\u001b[39m)\n\u001b[0;32m     11\u001b[0m \u001b[38;5;66;03m# Plot losses for DNN_ECFP\u001b[39;00m\n\u001b[0;32m     12\u001b[0m \u001b[38;5;28;01mif\u001b[39;00m \u001b[38;5;124m'\u001b[39m\u001b[38;5;124mdnn_ecfp\u001b[39m\u001b[38;5;124m'\u001b[39m \u001b[38;5;129;01min\u001b[39;00m loss_histories:\n",
      "\u001b[1;31mTypeError\u001b[0m: 'NoneType' object is not subscriptable"
     ]
    },
    {
     "data": {
      "text/plain": [
       "<Figure size 1200x800 with 0 Axes>"
      ]
     },
     "metadata": {},
     "output_type": "display_data"
    }
   ],
   "source": [
    "import matplotlib.pyplot as plt\n",
    "\n",
    "# Plotting the losses for each model\n",
    "plt.figure(figsize=(12, 8))\n",
    "\n",
    "# Plot losses for DNN_Mordred\n",
    "if 'dnn_mordred' in loss_histories:\n",
    "    for fold_no, history_df in enumerate(loss_histories['dnn_mordred']):\n",
    "        plt.plot(history_df['epoch'], history_df['loss'], label=f'DNN_Mordred Fold {fold_no+1} Loss')\n",
    "\n",
    "# Plot losses for DNN_ECFP\n",
    "if 'dnn_ecfp' in loss_histories:\n",
    "    for fold_no, history_df in enumerate(loss_histories['dnn_ecfp']):\n",
    "        plt.plot(history_df['epoch'], history_df['loss'], label=f'DNN_ECFP Fold {fold_no+1} Loss')\n",
    "\n",
    "plt.xlabel('Epoch')\n",
    "plt.ylabel('Training Loss')\n",
    "plt.title('Training Loss per Epoch for DNN_Mordred and DNN_ECFP')\n",
    "plt.legend()\n",
    "plt.show()"
   ]
  },
  {
   "cell_type": "markdown",
   "metadata": {},
   "source": [
    "# Results comparison"
   ]
  },
  {
   "cell_type": "code",
   "execution_count": 128,
   "metadata": {},
   "outputs": [
    {
     "name": "stderr",
     "output_type": "stream",
     "text": [
      "c:\\Users\\3742\\anaconda3\\envs\\ai4pfas\\Lib\\site-packages\\sklearn\\metrics\\_regression.py:492: FutureWarning: 'squared' is deprecated in version 1.4 and will be removed in 1.6. To calculate the root mean squared error, use the function'root_mean_squared_error'.\n",
      "  warnings.warn(\n",
      "c:\\Users\\3742\\anaconda3\\envs\\ai4pfas\\Lib\\site-packages\\sklearn\\metrics\\_regression.py:492: FutureWarning: 'squared' is deprecated in version 1.4 and will be removed in 1.6. To calculate the root mean squared error, use the function'root_mean_squared_error'.\n",
      "  warnings.warn(\n",
      "c:\\Users\\3742\\anaconda3\\envs\\ai4pfas\\Lib\\site-packages\\sklearn\\metrics\\_regression.py:492: FutureWarning: 'squared' is deprecated in version 1.4 and will be removed in 1.6. To calculate the root mean squared error, use the function'root_mean_squared_error'.\n",
      "  warnings.warn(\n",
      "c:\\Users\\3742\\anaconda3\\envs\\ai4pfas\\Lib\\site-packages\\sklearn\\metrics\\_regression.py:492: FutureWarning: 'squared' is deprecated in version 1.4 and will be removed in 1.6. To calculate the root mean squared error, use the function'root_mean_squared_error'.\n",
      "  warnings.warn(\n",
      "c:\\Users\\3742\\anaconda3\\envs\\ai4pfas\\Lib\\site-packages\\sklearn\\metrics\\_regression.py:492: FutureWarning: 'squared' is deprecated in version 1.4 and will be removed in 1.6. To calculate the root mean squared error, use the function'root_mean_squared_error'.\n",
      "  warnings.warn(\n",
      "c:\\Users\\3742\\anaconda3\\envs\\ai4pfas\\Lib\\site-packages\\sklearn\\metrics\\_regression.py:492: FutureWarning: 'squared' is deprecated in version 1.4 and will be removed in 1.6. To calculate the root mean squared error, use the function'root_mean_squared_error'.\n",
      "  warnings.warn(\n",
      "c:\\Users\\3742\\anaconda3\\envs\\ai4pfas\\Lib\\site-packages\\sklearn\\metrics\\_regression.py:492: FutureWarning: 'squared' is deprecated in version 1.4 and will be removed in 1.6. To calculate the root mean squared error, use the function'root_mean_squared_error'.\n",
      "  warnings.warn(\n",
      "c:\\Users\\3742\\anaconda3\\envs\\ai4pfas\\Lib\\site-packages\\sklearn\\metrics\\_regression.py:492: FutureWarning: 'squared' is deprecated in version 1.4 and will be removed in 1.6. To calculate the root mean squared error, use the function'root_mean_squared_error'.\n",
      "  warnings.warn(\n",
      "c:\\Users\\3742\\anaconda3\\envs\\ai4pfas\\Lib\\site-packages\\sklearn\\metrics\\_regression.py:492: FutureWarning: 'squared' is deprecated in version 1.4 and will be removed in 1.6. To calculate the root mean squared error, use the function'root_mean_squared_error'.\n",
      "  warnings.warn(\n",
      "c:\\Users\\3742\\anaconda3\\envs\\ai4pfas\\Lib\\site-packages\\sklearn\\metrics\\_regression.py:492: FutureWarning: 'squared' is deprecated in version 1.4 and will be removed in 1.6. To calculate the root mean squared error, use the function'root_mean_squared_error'.\n",
      "  warnings.warn(\n"
     ]
    }
   ],
   "source": [
    "from sklearn.metrics import r2_score, mean_absolute_error, mean_squared_error\n",
    "\n",
    "compare_benchmarks = ['dnn_mordred','dnn_ecfp'] #,'gp','gcn'] \n",
    "#compare_benchmarks = ['rf_mordred','rf_ecfp','rf_nmf_ecfp','dnn_mordred','dnn_ecfp','gp','gcn'] \n",
    "\n",
    "aggregated = pd.DataFrame()\n",
    "    \n",
    "for identity in compare_benchmarks:\n",
    "    benchmark = _benchmarks[identity]\n",
    "    \n",
    "    folds = enumerate(kfold.get_folds(benchmark['encoding']))\n",
    "    \n",
    "    for fold_no, data in folds:\n",
    "        fn = identity + str(fold_no) + '_' + sampling_type\n",
    "        \n",
    "        validation = pd.read_csv('../../data/benchmark-models/%s_predictions.csv' % fn)\n",
    "        \n",
    "        '''aggregated = aggregated.append({\n",
    "            'benchmark': identity,\n",
    "            'r2': r2_score(validation['actual_neglogld50'], validation['prediction_neglogld50']),\n",
    "            'mae': mean_absolute_error(validation['actual_neglogld50'], validation['prediction_neglogld50']),\n",
    "            'rmse': mean_squared_error(validation['actual_neglogld50'], validation['prediction_neglogld50'], squared=False),\n",
    "            'accuracy': np.sum(validation['actual_epa'] == validation['prediction_epa']) / len(validation)\n",
    "        }, ignore_index=True) '''\n",
    "\n",
    "\n",
    "        #   Create a temporary DataFrame for each result\n",
    "        temp_df = pd.DataFrame({\n",
    "            'benchmark': [identity],\n",
    "            'r2': [r2_score(validation['actual_neglogld50'], validation['prediction_neglogld50'])],\n",
    "            'mae': [mean_absolute_error(validation['actual_neglogld50'], validation['prediction_neglogld50'])],\n",
    "            'rmse': [mean_squared_error(validation['actual_neglogld50'], validation['prediction_neglogld50'], squared=False)],\n",
    "            'accuracy': [np.sum(validation['actual_epa'] == validation['prediction_epa']) / len(validation)],\n",
    "            'variance': [np.var(validation['actual_neglogld50'], ddof=1)],  # ddof=1 for sample variance\n",
    "            'prediction-variance': [np.var(validation['prediction_neglogld50'], ddof=1)],  # ddof=1 for sample variance\n",
    "            #'Coef-Of Variance-Actual': np.std(validation['actual_neglogld50']) / np.mean(validation['actual_neglogld50']),\n",
    "            #'Coef-Of Variance-Predicted': np.std(validation['prediction_neglogld50']) / np.mean(validation['prediction_neglogld50'])\n",
    "\n",
    "        })\n",
    "        \n",
    "        # Use pd.concat() to append the temp_df to the aggregated DataFrame\n",
    "        aggregated = pd.concat([aggregated, temp_df], ignore_index=True)\n",
    "\n",
    "# The DataFrame 'aggregated' now contains the results from all benchmarks."
   ]
  },
  {
   "cell_type": "code",
   "execution_count": 130,
   "metadata": {
    "scrolled": false
   },
   "outputs": [
    {
     "name": "stderr",
     "output_type": "stream",
     "text": [
      "C:\\Users\\3742\\AppData\\Local\\Temp\\ipykernel_11556\\3530873064.py:1: FutureWarning: The provided callable <function mean at 0x00000228BD7B6E80> is currently using DataFrameGroupBy.mean. In a future version of pandas, the provided callable will be used directly. To keep current behavior pass the string \"mean\" instead.\n",
      "  aggregated.pivot_table(index='benchmark', aggfunc=np.mean)\n"
     ]
    },
    {
     "data": {
      "text/html": [
       "<div>\n",
       "<style scoped>\n",
       "    .dataframe tbody tr th:only-of-type {\n",
       "        vertical-align: middle;\n",
       "    }\n",
       "\n",
       "    .dataframe tbody tr th {\n",
       "        vertical-align: top;\n",
       "    }\n",
       "\n",
       "    .dataframe thead th {\n",
       "        text-align: right;\n",
       "    }\n",
       "</style>\n",
       "<table border=\"1\" class=\"dataframe\">\n",
       "  <thead>\n",
       "    <tr style=\"text-align: right;\">\n",
       "      <th></th>\n",
       "      <th>accuracy</th>\n",
       "      <th>mae</th>\n",
       "      <th>prediction-variance</th>\n",
       "      <th>r2</th>\n",
       "      <th>rmse</th>\n",
       "      <th>variance</th>\n",
       "    </tr>\n",
       "    <tr>\n",
       "      <th>benchmark</th>\n",
       "      <th></th>\n",
       "      <th></th>\n",
       "      <th></th>\n",
       "      <th></th>\n",
       "      <th></th>\n",
       "      <th></th>\n",
       "    </tr>\n",
       "  </thead>\n",
       "  <tbody>\n",
       "    <tr>\n",
       "      <th>dnn_ecfp</th>\n",
       "      <td>0.619850</td>\n",
       "      <td>0.406419</td>\n",
       "      <td>0.565688</td>\n",
       "      <td>0.605818</td>\n",
       "      <td>0.553027</td>\n",
       "      <td>0.777076</td>\n",
       "    </tr>\n",
       "    <tr>\n",
       "      <th>dnn_mordred</th>\n",
       "      <td>0.408439</td>\n",
       "      <td>1.357137</td>\n",
       "      <td>2.385068</td>\n",
       "      <td>-6.928381</td>\n",
       "      <td>1.778698</td>\n",
       "      <td>0.777076</td>\n",
       "    </tr>\n",
       "  </tbody>\n",
       "</table>\n",
       "</div>"
      ],
      "text/plain": [
       "             accuracy       mae  prediction-variance        r2      rmse  \\\n",
       "benchmark                                                                  \n",
       "dnn_ecfp     0.619850  0.406419             0.565688  0.605818  0.553027   \n",
       "dnn_mordred  0.408439  1.357137             2.385068 -6.928381  1.778698   \n",
       "\n",
       "             variance  \n",
       "benchmark              \n",
       "dnn_ecfp     0.777076  \n",
       "dnn_mordred  0.777076  "
      ]
     },
     "execution_count": 130,
     "metadata": {},
     "output_type": "execute_result"
    }
   ],
   "source": [
    "aggregated.pivot_table(index='benchmark', aggfunc=np.mean)"
   ]
  },
  {
   "cell_type": "code",
   "execution_count": null,
   "metadata": {},
   "outputs": [],
   "source": [
    "#Results Using 5 Folds.\n",
    "import pandas as pd\n",
    "import numpy as np\n",
    "from sklearn.metrics import r2_score, mean_absolute_error, mean_squared_error, confusion_matrix\n",
    "import matplotlib.pyplot as plt\n",
    "import seaborn as sns\n",
    "from sklearn.metrics import confusion_matrix, precision_score, recall_score, f1_score\n",
    "\n",
    "\n",
    "output_file = 'ConsolRes.xlsx'\n",
    "with pd.ExcelWriter(output_file, engine='openpyxl') as writer:\n",
    "    for identity in compare_benchmarks:\n",
    "        actual = benchmark_results[identity]['actual']\n",
    "        predicted = benchmark_results[identity]['predicted']\n",
    "        \n",
    "        \n",
    "        unique_classes = np.sort(np.unique(np.concatenate((actual, predicted))))  # Ensure consistent class order\n",
    "        cm = confusion_matrix(actual, predicted, labels=unique_classes)\n",
    "\n",
    "        cm_df = pd.DataFrame(cm, index=unique_classes, columns=unique_classes)\n",
    "        # Add row totals\n",
    "        cm_df['Row Totals'] = cm_df.sum(axis=1)\n",
    "\n",
    "        # Add column totals\n",
    "        cm_df.loc['Column Totals'] = cm_df.sum(axis=0)\n",
    "\n",
    "        \n",
    "        # Write the confusion matrix with totals to a specified sheet in the Excel file\n",
    "        sheet_name = f'{identity}x_train-y-train_Confusion_Matrix'\n",
    "        cm_df.to_excel(writer, sheet_name=sheet_name)\n",
    "\n",
    "        plt.figure(figsize=(10, 8))\n",
    "        sns.heatmap(cm_df, annot=True, fmt='d', cmap='Blues', cbar=True, cbar_kws={'shrink': 0.8}, \n",
    "                    xticklabels=unique_classes, yticklabels=unique_classes)\n",
    "        #sns.heatmap(cm, annot=True, fmt='d', cmap='Blues', cbar=False, xticklabels=unique_classes, yticklabels=unique_classes)\n",
    "        plt.title(f'Confusion Matrix for {identity} using {fold_no +1} folds')\n",
    "        plt.xlabel('Predicted EPA Class')\n",
    "        plt.ylabel('Actual EPA Class')\n",
    "        plt.show()\n",
    "\n",
    "\n",
    "# Placeholder for results\n",
    "    results = []\n",
    "\n",
    "    for identity in compare_benchmarks:\n",
    "        actual = benchmark_results[identity]['actual']\n",
    "        predicted = benchmark_results[identity]['predicted']\n",
    "        \n",
    "        unique_classes = np.sort(np.unique(np.concatenate((actual, predicted))))  # Ensure consistent class order\n",
    "        cm = confusion_matrix(actual, predicted, labels=unique_classes)\n",
    "        \n",
    "        # Calculate precision, recall, and F1 score for each class\n",
    "        precision = precision_score(actual, predicted, labels=unique_classes, average=None)\n",
    "        recall = recall_score(actual, predicted, labels=unique_classes, average=None)\n",
    "        f1 = f1_score(actual, predicted, labels=unique_classes, average=None)\n",
    "        \n",
    "        # Add each metric to the results table\n",
    "        for idx, class_label in enumerate(unique_classes):\n",
    "            results.append({\n",
    "                'Identity': identity,\n",
    "                'EPA Class': class_label,\n",
    "                'Precision': precision[idx],\n",
    "                'Recall': recall[idx],\n",
    "                'F1 Score': f1[idx]\n",
    "                })\n",
    "\n",
    "    # Convert results to a DataFrame for easy display\n",
    "    results_df = pd.DataFrame(results)\n",
    "\n",
    "    # Display the table\n",
    "    print(f'F1 Score of Kfolds = {fold_no +1} is: \\n{results_df}')\n",
    "\n",
    "    # Save to Excel if needed\n",
    "    #output_file = 'F1ScoresOnMatrices_Results.xlsx'\n",
    "    sheet_name = f'{identity}F1 scores '\n",
    "    results_df.to_excel(writer, sheet_name = sheet_name) #output_file, index=False)\n",
    "\n",
    "    sheet_name = f'Ers&Accs{fold_no+1}'\n",
    "    aggregated_df = aggregated.pivot_table(index='benchmark', aggfunc=np.mean)\n",
    "    aggregated_df.to_excel(writer, sheet_name = sheet_name)\n",
    " \n",
    "\n",
    "\n",
    "\n",
    "'''import pandas as pd\n",
    "import numpy as np\n",
    "from sklearn.metrics import confusion_matrix, precision_score, recall_score, f1_score\n",
    "import matplotlib.pyplot as plt\n",
    "import seaborn as sns\n",
    "\n",
    "output_file = 'ConsolRes.xlsx'\n",
    "with pd.ExcelWriter(output_file, engine='openpyxl') as writer:\n",
    "    for identity in compare_benchmarks:\n",
    "        actual = benchmark_results[identity]['actual']\n",
    "        predicted = benchmark_results[identity]['predicted']\n",
    "        \n",
    "        # Ensure consistent class order\n",
    "        unique_classes = np.sort(np.unique(np.concatenate((actual, predicted))))\n",
    "        cm = confusion_matrix(actual, predicted, labels=unique_classes)\n",
    "\n",
    "        # Convert confusion matrix to DataFrame\n",
    "        cm_df = pd.DataFrame(cm, index=unique_classes, columns=unique_classes)\n",
    "        cm_df['Row Totals'] = cm_df.sum(axis=1)  # Add row totals\n",
    "        cm_df.loc['Column Totals'] = cm_df.sum(axis=0)  # Add column totals\n",
    "\n",
    "        # Write confusion matrix to Excel\n",
    "        sheet_name = f'{identity}x_train-y-train_Confusion_Matrix'\n",
    "        cm_df.to_excel(writer, sheet_name=sheet_name)\n",
    "\n",
    "        # Plot the confusion matrix\n",
    "        plt.figure(figsize=(10, 8))\n",
    "        sns.heatmap(cm_df.iloc[:-1, :-1], annot=True, fmt='d', cmap='Blues', cbar=True, \n",
    "                    xticklabels=unique_classes, yticklabels=unique_classes)\n",
    "        plt.title(f'Confusion Matrix for {identity} using {fold_no + 1} folds')\n",
    "        plt.xlabel('Predicted EPA Class')\n",
    "        plt.ylabel('Actual EPA Class')\n",
    "        plt.show()\n",
    "\n",
    "    ### Calculating the F1 Scores and the prediction scores\n",
    "    results = []\n",
    "    for identity in compare_benchmarks:\n",
    "        actual = benchmark_results[identity]['actual']\n",
    "        predicted = benchmark_results[identity]['predicted']\n",
    "        \n",
    "        # Calculate precision, recall, and F1 score for each class\n",
    "        precision = precision_score(actual, predicted, labels=unique_classes, average=None)\n",
    "        recall = recall_score(actual, predicted, labels=unique_classes, average=None)\n",
    "        f1 = f1_score(actual, predicted, labels=unique_classes, average=None)\n",
    "        \n",
    "        # Add each metric to the results table\n",
    "        for idx, class_label in enumerate(unique_classes):\n",
    "            results.append({\n",
    "                'Identity': identity,\n",
    "                'EPA Class': class_label,\n",
    "                'Precision': precision[idx],\n",
    "                'Recall': recall[idx],\n",
    "                'F1 Score': f1[idx]\n",
    "            })\n",
    "\n",
    "    # Convert results to a DataFrame for easy display\n",
    "    results_df = pd.DataFrame(results)\n",
    "\n",
    "    # Print the F1 scores for the current fold\n",
    "    print(f'F1 Score of Kfolds = {fold_no + 1} is:\\n{results_df}')\n",
    "\n",
    "    # Write F1 scores to Excel\n",
    "    sheet_name = f'{identity}F1_scores'\n",
    "    results_df.to_excel(writer, sheet_name=sheet_name)\n",
    "\n",
    "    # Create and write the pivot table of aggregated metrics to Excel\n",
    "    sheet_name = f'Ers&Accs{fold_no+1}'\n",
    "    aggregated_df = aggregated.pivot_table(index='benchmark', aggfunc=np.mean)\n",
    "    aggregated_df.to_excel(writer, sheet_name=sheet_name)\n",
    "\n",
    "print(\"Results have been successfully saved to\", output_file)\n",
    "'''\n"
   ]
  },
  {
   "cell_type": "code",
   "execution_count": 140,
   "metadata": {},
   "outputs": [
    {
     "name": "stdout",
     "output_type": "stream",
     "text": [
      "2\n"
     ]
    }
   ],
   "source": [
    "print(fold_no)\n"
   ]
  },
  {
   "cell_type": "code",
   "execution_count": null,
   "metadata": {},
   "outputs": [],
   "source": []
  },
  {
   "cell_type": "code",
   "execution_count": null,
   "metadata": {},
   "outputs": [],
   "source": []
  },
  {
   "cell_type": "code",
   "execution_count": null,
   "metadata": {},
   "outputs": [],
   "source": []
  },
  {
   "cell_type": "code",
   "execution_count": null,
   "metadata": {},
   "outputs": [],
   "source": []
  },
  {
   "cell_type": "code",
   "execution_count": null,
   "metadata": {},
   "outputs": [],
   "source": []
  },
  {
   "cell_type": "code",
   "execution_count": null,
   "metadata": {},
   "outputs": [],
   "source": []
  },
  {
   "cell_type": "code",
   "execution_count": 116,
   "metadata": {},
   "outputs": [
    {
     "name": "stderr",
     "output_type": "stream",
     "text": [
      "c:\\Users\\3742\\anaconda3\\envs\\ai4pfas\\Lib\\site-packages\\openpyxl\\workbook\\child.py:99: UserWarning: Title is more than 31 characters. Some applications may not be able to read the file\n",
      "  warnings.warn(\"Title is more than 31 characters. Some applications may not be able to read the file\")\n"
     ]
    },
    {
     "data": {
      "image/png": "[encoded data removed]",
      "text/plain": [
       "<Figure size 1000x800 with 2 Axes>"
      ]
     },
     "metadata": {},
     "output_type": "display_data"
    },
    {
     "name": "stderr",
     "output_type": "stream",
     "text": [
      "c:\\Users\\3742\\anaconda3\\envs\\ai4pfas\\Lib\\site-packages\\openpyxl\\workbook\\child.py:99: UserWarning: Title is more than 31 characters. Some applications may not be able to read the file\n",
      "  warnings.warn(\"Title is more than 31 characters. Some applications may not be able to read the file\")\n"
     ]
    },
    {
     "data": {
      "image/png": "[encoded data removed]",
      "text/plain": [
       "<Figure size 1000x800 with 2 Axes>"
      ]
     },
     "metadata": {},
     "output_type": "display_data"
    },
    {
     "name": "stdout",
     "output_type": "stream",
     "text": [
      "F1 Score of Kfolds = 5 is: \n",
      "      Identity  EPA Class  Precision    Recall  F1 Score\n",
      "0  dnn_mordred          0   0.213144  0.104167  0.139942\n",
      "1  dnn_mordred          1   0.223917  0.301099  0.256835\n",
      "2  dnn_mordred          2   0.529245  0.625766  0.573472\n",
      "3  dnn_mordred          3   0.322906  0.123409  0.178571\n",
      "4     dnn_ecfp          0   0.834699  0.530382  0.648620\n",
      "5     dnn_ecfp          1   0.561404  0.433700  0.489357\n",
      "6     dnn_ecfp          2   0.662460  0.788882  0.720165\n",
      "7     dnn_ecfp          3   0.574807  0.515619  0.543606\n"
     ]
    },
    {
     "name": "stderr",
     "output_type": "stream",
     "text": [
      "C:\\Users\\3742\\AppData\\Local\\Temp\\ipykernel_11556\\1066928843.py:79: FutureWarning: The provided callable <function mean at 0x00000228BD7B6E80> is currently using DataFrameGroupBy.mean. In a future version of pandas, the provided callable will be used directly. To keep current behavior pass the string \"mean\" instead.\n",
      "  aggregated_df = aggregated.pivot_table(index='benchmark', aggfunc=np.mean)\n"
     ]
    }
   ],
   "source": [
    "#Results Using 5 Folds.\n",
    "import pandas as pd\n",
    "import numpy as np\n",
    "from sklearn.metrics import r2_score, mean_absolute_error, mean_squared_error, confusion_matrix\n",
    "import matplotlib.pyplot as plt\n",
    "import seaborn as sns\n",
    "from sklearn.metrics import confusion_matrix, precision_score, recall_score, f1_score\n",
    "\n",
    "\n",
    "output_file = 'ConsolRes.xlsx'\n",
    "with pd.ExcelWriter(output_file, engine='openpyxl') as writer:\n",
    "    for identity in compare_benchmarks:\n",
    "        actual = benchmark_results[identity]['actual']\n",
    "        predicted = benchmark_results[identity]['predicted']\n",
    "        \n",
    "        \n",
    "        unique_classes = np.sort(np.unique(np.concatenate((actual, predicted))))  # Ensure consistent class order\n",
    "        cm = confusion_matrix(actual, predicted, labels=unique_classes)\n",
    "\n",
    "        cm_df = pd.DataFrame(cm, index=unique_classes, columns=unique_classes)\n",
    "        # Add row totals\n",
    "        cm_df['Row Totals'] = cm_df.sum(axis=1)\n",
    "\n",
    "        # Add column totals\n",
    "        cm_df.loc['Column Totals'] = cm_df.sum(axis=0)\n",
    "\n",
    "        \n",
    "        # Write the confusion matrix with totals to a specified sheet in the Excel file\n",
    "        sheet_name = f'{identity}x_train-y-train_Confusion_Matrix'\n",
    "        cm_df.to_excel(writer, sheet_name=sheet_name)\n",
    "\n",
    "        plt.figure(figsize=(10, 8))\n",
    "        sns.heatmap(cm_df, annot=True, fmt='d', cmap='Blues', cbar=True, cbar_kws={'shrink': 0.8}, \n",
    "                    xticklabels=unique_classes, yticklabels=unique_classes)\n",
    "        #sns.heatmap(cm, annot=True, fmt='d', cmap='Blues', cbar=False, xticklabels=unique_classes, yticklabels=unique_classes)\n",
    "        plt.title(f'Confusion Matrix for {identity} using {fold_no + 1} folds')\n",
    "        plt.xlabel('Predicted EPA Class')\n",
    "        plt.ylabel('Actual EPA Class')\n",
    "        plt.show()\n",
    "\n",
    "\n",
    "# Placeholder for results\n",
    "    results = []\n",
    "\n",
    "    for identity in compare_benchmarks:\n",
    "        actual = benchmark_results[identity]['actual']\n",
    "        predicted = benchmark_results[identity]['predicted']\n",
    "        \n",
    "        unique_classes = np.sort(np.unique(np.concatenate((actual, predicted))))  # Ensure consistent class order\n",
    "        cm = confusion_matrix(actual, predicted, labels=unique_classes)\n",
    "        \n",
    "        # Calculate precision, recall, and F1 score for each class\n",
    "        precision = precision_score(actual, predicted, labels=unique_classes, average=None)\n",
    "        recall = recall_score(actual, predicted, labels=unique_classes, average=None)\n",
    "        f1 = f1_score(actual, predicted, labels=unique_classes, average=None)\n",
    "        \n",
    "        # Add each metric to the results table\n",
    "        for idx, class_label in enumerate(unique_classes):\n",
    "            results.append({\n",
    "                'Identity': identity,\n",
    "                'EPA Class': class_label,\n",
    "                'Precision': precision[idx],\n",
    "                'Recall': recall[idx],\n",
    "                'F1 Score': f1[idx]\n",
    "                })\n",
    "\n",
    "    # Convert results to a DataFrame for easy display\n",
    "    results_df = pd.DataFrame(results)\n",
    "\n",
    "    # Display the table\n",
    "    print(f'F1 Score of Kfolds = {fold_no +1} is: \\n{results_df}')\n",
    "\n",
    "    # Save to Excel if needed\n",
    "    #output_file = 'F1ScoresOnMatrices_Results.xlsx'\n",
    "    sheet_name = f'{identity}F1 scores '\n",
    "    results_df.to_excel(writer, sheet_name = sheet_name) #output_file, index=False)\n",
    "\n",
    "    sheet_name = f'Ers&Accs{fold_no+1}'\n",
    "    aggregated_df = aggregated.pivot_table(index='benchmark', aggfunc=np.mean)\n",
    "    aggregated_df.to_excel(writer, sheet_name = sheet_name)\n",
    " \n"
   ]
  },
  {
   "cell_type": "code",
   "execution_count": null,
   "metadata": {},
   "outputs": [],
   "source": [
    "### Examples of Visualisations \n",
    "import pandas as pd\n",
    "import numpy as np\n",
    "from sklearn.metrics import r2_score, mean_absolute_error, mean_squared_error, confusion_matrix\n",
    "import matplotlib.pyplot as plt\n",
    "import seaborn as sns\n",
    "\n",
    "compare_benchmarks = ['dnn_mordred','dnn_ecfp']\n",
    "aggregated = pd.DataFrame()\n",
    "#class_orders = [0, 1, 2, 3]\n",
    "\n",
    "\n",
    "for identity in compare_benchmarks:\n",
    "    benchmark = _benchmarks[identity]\n",
    "    folds = enumerate(kfold.get_folds(benchmark['encoding']))\n",
    "    \n",
    "    for fold_no, data in folds:\n",
    "        fn = identity + str(fold_no) + '_' + sampling_type\n",
    "        validation = pd.read_csv('../../data/benchmark-models/%s_predictions.csv' % fn)\n",
    "\n",
    "        # Forcing a Int value type\n",
    "        #validation['actual_epa'] = validation['actual_epa'].astype(int)\n",
    "        #validation['prediction_epa'] = validation['prediction_epa'].astype(int)\n",
    "        \n",
    "        # Ensure that class orders exist in the data to avoid the ValueError\n",
    "        #actual_classes = set(validation['actual_epa'].unique())\n",
    "        #predicted_classes = set(validation['prediction_epa'].unique())\n",
    "        #relevant_classes = [cls for cls in class_orders if cls in actual_classes or cls in predicted_classes]\n",
    "        \n",
    "        # Create confusion matrix only for relevant classes present in the data\n",
    "        #unique_classes = np.unique(validation[['actual_epa', 'prediction_epa']])\n",
    "        cm = confusion_matrix(validation['actual_epa'], validation['prediction_epa'], labels=unique_classes)\n",
    "        #cm = confusion_matrix((validation['actual_epa']), (validation['prediction_epa']), labels=relevant_classes)\n",
    "\n",
    "        #plt.figure(figsize=(8, 6))\n",
    "        #sns.heatmap(cm, annot=True, fmt='d', cmap='Blues', cbar=False)\n",
    "        plt.title(f'Confusion Matrix for {identity}, Fold {fold_no}')\n",
    "        plt.xlabel('Predicted EPA Class')\n",
    "        plt.ylabel('Actual EPA Class')\n",
    "        plt.show()\n",
    "\n",
    "print(validation['actual_epa'])\n",
    "\n",
    "''' \n",
    "import pandas as pd\n",
    "import numpy as np\n",
    "from sklearn.metrics import r2_score, mean_absolute_error, mean_squared_error, confusion_matrix\n",
    "import matplotlib.pyplot as plt\n",
    "import seaborn as sns\n",
    "\n",
    "compare_benchmarks = ['dnn_mordred', 'dnn_ecfp']\n",
    "aggregated = pd.DataFrame()\n",
    "class_orders = ['Class 1', 'Class 2', 'Class 3', 'Class 4']\n",
    "\n",
    "for identity in compare_benchmarks:\n",
    "    benchmark = _benchmarks[identity]\n",
    "    folds = enumerate(kfold.get_folds(benchmark['encoding']))\n",
    "    \n",
    "    for fold_no, data in folds:\n",
    "        fn = identity + str(fold_no) + '_' + sampling_type\n",
    "        validation = pd.read_csv('../../data/benchmark-models/%s_predictions.csv' % fn)\n",
    "        \n",
    "        # Ensure that class orders exist in the data to avoid the ValueError\n",
    "        actual_classes = set(validation['actual_epa'].unique())\n",
    "        predicted_classes = set(validation['prediction_epa'].unique())\n",
    "        relevant_classes = [cls for cls in class_orders if cls in actual_classes or cls in predicted_classes]\n",
    "        \n",
    "        # Create confusion matrix only for relevant classes present in the data\n",
    "        cm = confusion_matrix(validation['actual_epa'], validation['prediction_epa'], labels=relevant_classes)\n",
    "        \n",
    "        # Plot the confusion matrix with consistent labels\n",
    "        plt.figure(figsize=(8, 6))\n",
    "        sns.heatmap(cm, annot=True, fmt='d', cmap='Blues', cbar=False,\n",
    "                    xticklabels=relevant_classes, yticklabels=relevant_classes)\n",
    "   '''\n"
   ]
  }
 ],
 "metadata": {
  "kernelspec": {
   "display_name": "ai4pfas",
   "language": "python",
   "name": "python3"
  },
  "language_info": {
   "codemirror_mode": {
    "name": "ipython",
    "version": 3
   },
   "file_extension": ".py",
   "mimetype": "text/x-python",
   "name": "python",
   "nbconvert_exporter": "python",
   "pygments_lexer": "ipython3",
   "version": "3.11.9"
  }
 },
 "nbformat": 4,
 "nbformat_minor": 4
}
